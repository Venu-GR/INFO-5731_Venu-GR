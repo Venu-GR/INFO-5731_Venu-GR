{
  "cells": [
    {
      "cell_type": "markdown",
      "metadata": {
        "id": "DymRJbxDBCnf"
      },
      "source": [
        "# **INFO5731 Exercise 1**\n",
        "\n",
        "This exercise covers a variety of fundamental concepts in Python and is designed to help students improve their coding skills and problem-solving abilities.\n",
        "\n",
        "**Expectations**:\n",
        "*   Students are expected to complete the exercise during lecture period to meet the active participation criteria of the course.\n",
        "*   Use the provided .*ipynb* document to write your code & respond to the questions. Avoid generating a new file.\n",
        "*   Write complete answers and run all the cells before submission.\n",
        "*   Make sure the submission is \"clean\"; *i.e.*, no unnecessary code cells.\n",
        "*   Once finished, allow shared rights from top right corner (*see Canvas for details*).\n",
        "\n",
        "**Total points**: 40\n",
        "\n",
        "**Deadline**: This in-class exercise is due at the end of the day tomorrow, at 11:59 PM.\n",
        "\n",
        "**Late submissions cannot be considered, and no requests will be answered. Manage your time accordingly.**\n"
      ]
    },
    {
      "cell_type": "markdown",
      "source": [
        "## Question 1\n",
        "Write a Python program that  prompts the user to input the length and width of a rectangle, and then calculates and displays the area of the rectangle."
      ],
      "metadata": {
        "id": "FBKvD6O_TY6e"
      }
    },
    {
      "cell_type": "code",
      "source": [
        "\n",
        "len = float(input(\"length of the rectangle: \"))\n",
        "\n",
        "\n",
        "wi = float(input(\" width of the rectangle: \"))\n",
        "area = len * wi\n",
        "print(f\"The area of the rectangle is: {area} square units.\")\n"
      ],
      "metadata": {
        "id": "cikVKDXdTbzE",
        "colab": {
          "base_uri": "https://localhost:8080/"
        },
        "outputId": "076ae37d-129d-4921-a575-c6fe00eb93d6"
      },
      "execution_count": null,
      "outputs": [
        {
          "output_type": "stream",
          "name": "stdout",
          "text": [
            "length of the rectangle: 25\n",
            " width of the rectangle: 12\n",
            "The area of the rectangle is: 300.0 square units.\n"
          ]
        }
      ]
    },
    {
      "cell_type": "markdown",
      "source": [
        "## Question 2\n",
        "Create a Python program that interactively takes two numerical inputs from the user and swaps their values without utilizing an extra variable."
      ],
      "metadata": {
        "id": "E9RqrlwdTfvl"
      }
    },
    {
      "cell_type": "code",
      "source": [
        "num1 = int(input(\"Enter the first number: \"))\n",
        "num2 = int(input(\"Enter the second number: \"))\n",
        "print(f\"Before swapping: num1 = {num1}, num2 = {num2}\")\n",
        "num1 = num1 + num2\n",
        "num2 = num1 - num2\n",
        "num1 = num1 - num2\n",
        "print(f\"After swapping: num1 = {num1}, num2 = {num2}\")\n"
      ],
      "metadata": {
        "id": "4XvRknixTh1g",
        "colab": {
          "base_uri": "https://localhost:8080/"
        },
        "outputId": "ac20e77a-90d3-41e4-849b-6e9bb597ef94"
      },
      "execution_count": null,
      "outputs": [
        {
          "output_type": "stream",
          "name": "stdout",
          "text": [
            "Enter the first number: 6\n",
            "Enter the second number: 8\n",
            "Before swapping: num1 = 6, num2 = 8\n",
            "After swapping: num1 = 8, num2 = 6\n"
          ]
        }
      ]
    },
    {
      "cell_type": "markdown",
      "metadata": {
        "id": "03jb4GZsBkBS"
      },
      "source": [
        "## Question 3\n",
        "Write a Python script to determine and print the length of a user-input string."
      ]
    },
    {
      "cell_type": "code",
      "execution_count": null,
      "metadata": {
        "id": "YaGLbSHHB8Ej",
        "colab": {
          "base_uri": "https://localhost:8080/"
        },
        "outputId": "4e21fd33-31f9-4159-89c6-d6326c48eb47"
      },
      "outputs": [
        {
          "output_type": "stream",
          "name": "stdout",
          "text": [
            "Enter a string: Vennapusa Gopal\n",
            "The length of the entered string is: 15 characters.\n"
          ]
        }
      ],
      "source": [
        "user_input = input(\"Enter a string: \")\n",
        "\n",
        "\n",
        "length_of_string = len(user_input)\n",
        "\n",
        "\n",
        "print(f\"The length of the entered string is: {length_of_string} characters.\")\n"
      ]
    },
    {
      "cell_type": "markdown",
      "metadata": {
        "id": "jJDe71iLB616"
      },
      "source": [
        "## Question 4\n",
        "Construct a Python program that counts and displays the occurrences of each character in a given string.\n",
        "\n",
        "Sample String: 'openai.ai',\n",
        "\n",
        "Expected Result: {'a': 2, 'i': 2, '.': 1, 'o': 1, 'p': 1, 'e': 1, 'n': 1}"
      ]
    },
    {
      "cell_type": "code",
      "execution_count": null,
      "metadata": {
        "id": "MtKskTzbCLaU",
        "colab": {
          "base_uri": "https://localhost:8080/"
        },
        "outputId": "2838df34-285b-4554-d987-0ddaaa6ab234"
      },
      "outputs": [
        {
          "output_type": "stream",
          "name": "stdout",
          "text": [
            "{'o': 1, 'p': 1, 'e': 1, 'n': 1, 'a': 2, 'i': 2, '.': 1}\n"
          ]
        }
      ],
      "source": [
        "\n",
        "sample_string = 'openai.ai'\n",
        "\n",
        "# Initialize an empty dictionary to store the character counts\n",
        "char_count = {}\n",
        "\n",
        "# Iterate over each character in the string\n",
        "for char in sample_string:\n",
        "    # If the character is already in the dictionary, increment its count\n",
        "    if char in char_count:\n",
        "        char_count[char] += 1\n",
        "    # If the character is not in the dictionary, add it with a count of 1\n",
        "    else:\n",
        "        char_count[char] = 1\n",
        "\n",
        "# Display the character count dictionary\n",
        "print(char_count)\n"
      ]
    },
    {
      "cell_type": "markdown",
      "metadata": {
        "id": "55W9AMdXCSpV"
      },
      "source": [
        "## Question 5\n",
        "Design a Python code to calculate the sum of all elements in a user-provided list."
      ]
    },
    {
      "cell_type": "code",
      "execution_count": null,
      "metadata": {
        "id": "I57NXsauCec2",
        "colab": {
          "base_uri": "https://localhost:8080/"
        },
        "outputId": "c947c245-cda4-4aff-ce8c-243f3fb08e6d"
      },
      "outputs": [
        {
          "output_type": "stream",
          "name": "stdout",
          "text": [
            "Enter a list of numbers separated by spaces: 1 3 4 5 6 7 8 \n",
            "The sum of all elements in the list is: 34.0\n"
          ]
        }
      ],
      "source": [
        "\n",
        "# Prompt the user to input a list of numbers, separated by spaces\n",
        "user_input = input(\"Enter a list of numbers separated by spaces: \")\n",
        "\n",
        "# Convert the user input into a list of numbers\n",
        "numbers = list(map(float, user_input.split()))\n",
        "\n",
        "# Calculate the sum of all elements in the list\n",
        "sum_of_elements = sum(numbers)\n",
        "\n",
        "# Display the sum\n",
        "print(f\"The sum of all elements in the list is: {sum_of_elements}\")\n"
      ]
    },
    {
      "cell_type": "markdown",
      "metadata": {
        "id": "4ulBZ6yhCi9F"
      },
      "source": [
        "## Question 6\n",
        "Write a Python program that modifies a given string by replacing all occurrences of its first character with '$', excluding the first character itself.\n",
        "\n",
        "\n",
        "Sample String : 'restart‘\n",
        "Expected Result : 'resta\\$t'"
      ]
    },
    {
      "cell_type": "code",
      "execution_count": 14,
      "metadata": {
        "id": "Fj0XhwbBCw2o",
        "colab": {
          "base_uri": "https://localhost:8080/"
        },
        "outputId": "0d25e300-33f7-49b0-a81b-a705ffc45335"
      },
      "outputs": [
        {
          "output_type": "stream",
          "name": "stdout",
          "text": [
            "Modified string: resta$t\n"
          ]
        }
      ],
      "source": [
        "stri = 'restart'\n",
        "\n",
        "\n",
        "first_char = stri[0]\n",
        "\n",
        "\n",
        "new_stri = first_char + stri[1:].replace(first_char, '$')\n",
        "\n",
        "# Display the modified string\n",
        "print(f\"Modified string: {new_stri}\")"
      ]
    },
    {
      "cell_type": "markdown",
      "source": [
        "## Question 7\n",
        "Write a Python program using a while loop to compute the factorial of a user-supplied number."
      ],
      "metadata": {
        "id": "qVXA3q7ET5JI"
      }
    },
    {
      "cell_type": "code",
      "source": [
        "# Prompt the user to input a number\n",
        "num = int(input(\"Enter a positive integer: \"))\n",
        "\n",
        "# Initialize the factorial result to 1\n",
        "fact = 1\n",
        "\n",
        "# Initialize a counter variable\n",
        "counter = num\n",
        "\n",
        "# Calculate the factorial using a while loop\n",
        "while counter > 0:\n",
        "    fact *= counter\n",
        "    counter -= 1\n",
        "\n",
        "# Display the factorial result\n",
        "print(f\"The factorial of {num} is: {fact}\")\n"
      ],
      "metadata": {
        "id": "Lbt7R6UkT7BA",
        "colab": {
          "base_uri": "https://localhost:8080/"
        },
        "outputId": "04218ce9-facd-46d3-e9cd-23ee882e4ef7"
      },
      "execution_count": 16,
      "outputs": [
        {
          "output_type": "stream",
          "name": "stdout",
          "text": [
            "Enter a positive integer: 567\n",
            "The factorial of 567 is: 649483984028395659661733295685901544934978750889527945304800574997196752255580683501579493203611359904547285858217349996008840933739864309090760564167410232634774034181673112476193518020272968159594517767951330680339855683079154029302460204496322003226460300201055132334972008130888407689678477616804900037361803481984019857638776753187961318154550868102082442011587321977461579828452180032961546140560791362673589415265548674040204561654854738960357963782223298621014763467616334187134715686112824112384087119751142749500625396972146523051566907340914339421218445802707140645150524683582597267523518417552114580408791259115741242671849038630183774837321371003784787980300701886231721231933549546790748358706265290263648642561029265814333231693309937892569909750234913845749874390612394576728720824721439991034142668193834500479118514349720808566703473178741837234006618197259923961253586532789940899465170455333356920414918265259273380016594597964163679195762340018093067387748601344632351849448708998046156066870567303965851516974890601183731644798182852989491099157918032798287403599576875645915376678846053889721185339136259701818471072888435597553117078733428383331888660480000000000000000000000000000000000000000000000000000000000000000000000000000000000000000000000000000000000000000000000000000000000000000000\n"
          ]
        }
      ]
    },
    {
      "cell_type": "markdown",
      "source": [
        "## Question 8\n",
        "Create a program that accepts a list of numbers as input and outputs a new list containing only the even numbers."
      ],
      "metadata": {
        "id": "6YfbzXMNT--R"
      }
    },
    {
      "cell_type": "code",
      "source": [
        "num = input(\"Enter a list of numbers separated by spaces: \")\n",
        "\n",
        "\n",
        "num_con = list(map(int, num.split()))\n",
        "\n",
        "\n",
        "even = [nume for nume in num_con if nume % 2 == 0]\n",
        "\n",
        "# Displaying  the list of even numbers\n",
        "print(f\"The even numbers are: {even}\")"
      ],
      "metadata": {
        "id": "54q7wMQPUAKu",
        "colab": {
          "base_uri": "https://localhost:8080/"
        },
        "outputId": "07b3f5a3-e5e3-4b34-e54f-539e2d341f46"
      },
      "execution_count": 21,
      "outputs": [
        {
          "output_type": "stream",
          "name": "stdout",
          "text": [
            "Enter a list of numbers separated by spaces: 3 4 6 8 10 14\n",
            "The even numbers are: [4, 6, 8, 10, 14]\n"
          ]
        }
      ]
    },
    {
      "cell_type": "markdown",
      "metadata": {
        "id": "_bIP7s1MCzue"
      },
      "source": [
        "## Question 9\n",
        "Design a Python function to check if a number is prime.\n"
      ]
    },
    {
      "cell_type": "code",
      "execution_count": null,
      "metadata": {
        "id": "w79QilHXD3Mg",
        "colab": {
          "base_uri": "https://localhost:8080/"
        },
        "outputId": "cf04debd-0d4e-4346-b082-1a98ddc1ea33"
      },
      "outputs": [
        {
          "output_type": "stream",
          "name": "stdout",
          "text": [
            "Enter a number to check if it's prime: 45\n",
            "45 is not a prime number.\n"
          ]
        }
      ],
      "source": [
        "def is_prime(number):\n",
        "    \"\"\"\n",
        "    Check if the given number is a prime number.\n",
        "\n",
        "    Parameters:\n",
        "    number (int): The number to check\n",
        "\n",
        "    Returns:\n",
        "    bool: True if the number is prime, False otherwise\n",
        "    \"\"\"\n",
        "    # Check if the number is less than 2\n",
        "    if number <= 1:\n",
        "        return False\n",
        "\n",
        "    # Check from 2 to the square root of the number\n",
        "    for i in range(2, int(number ** 0.5) + 1):\n",
        "        if number % i == 0:\n",
        "            return False\n",
        "\n",
        "    return True\n",
        "\n",
        "# Example usage\n",
        "num = int(input(\"Enter a number to check if it's prime: \"))\n",
        "if is_prime(num):\n",
        "    print(f\"{num} is a prime number.\")\n",
        "else:\n",
        "    print(f\"{num} is not a prime number.\")\n",
        "\n"
      ]
    },
    {
      "cell_type": "markdown",
      "metadata": {
        "id": "xCa2bK9aD4Q3"
      },
      "source": [
        "## Question 10\n",
        "Write a Python program to concatenate following dictionaries to create a new one.\n",
        "\n",
        "Sample Dictionary : dic1={1:10, 2:20}, dic2={3:30, 4:40}, dic3={5:50,6:60},\n",
        "\n",
        "Expected Result : {1: 10, 2: 20, 3: 30, 4: 40, 5: 50, 6: 60}\n"
      ]
    },
    {
      "cell_type": "code",
      "execution_count": null,
      "metadata": {
        "id": "_z4aLqAbEET1",
        "colab": {
          "base_uri": "https://localhost:8080/"
        },
        "outputId": "d3f9f00e-342d-4b7f-837c-77516fbc883c"
      },
      "outputs": [
        {
          "output_type": "stream",
          "name": "stdout",
          "text": [
            "Combined dictionary: {1: 10, 2: 20, 3: 30, 4: 40, 5: 50, 6: 60}\n"
          ]
        }
      ],
      "source": [
        "# Sample dictionaries\n",
        "dic1 = {1: 10, 2: 20}\n",
        "dic2 = {3: 30, 4: 40}\n",
        "dic3 = {5: 50, 6: 60}\n",
        "\n",
        "# Concatenate the dictionaries\n",
        "combined_dict = {**dic1, **dic2, **dic3}\n",
        "\n",
        "# Display the result\n",
        "print(f\"Combined dictionary: {combined_dict}\")\n"
      ]
    },
    {
      "cell_type": "markdown",
      "source": [
        "## Question 11\n",
        "Design a Python function that takes a tuple of integers as input and returns the largest and smallest elements."
      ],
      "metadata": {
        "id": "bkyZ2xSZUOst"
      }
    },
    {
      "cell_type": "code",
      "source": [
        "def find_largest_and_smallest(numbers):\n",
        "\n",
        "    if not numbers:\n",
        "        raise ValueError(\"The tuple is empty. Cannot determine largest and smallest elements.\")\n",
        "\n",
        "    small = min(numbers)\n",
        "    large = max(numbers)\n",
        "\n",
        "    return (small, large)\n",
        "\n",
        "# Example usage\n",
        "num_tuple = (10, 5, 8, 12, 3, 7)\n",
        "small, large = find_largest_and_smallest(num_tuple)\n",
        "print(f\"The small element is: {small}\")\n",
        "print(f\"The large element is: {large}\")\n"
      ],
      "metadata": {
        "id": "3FdLRBKOUQEd",
        "colab": {
          "base_uri": "https://localhost:8080/"
        },
        "outputId": "97b52757-53a1-469a-94a0-24f5bb004814"
      },
      "execution_count": 23,
      "outputs": [
        {
          "output_type": "stream",
          "name": "stdout",
          "text": [
            "The small element is: 3\n",
            "The large element is: 12\n"
          ]
        }
      ]
    },
    {
      "cell_type": "markdown",
      "source": [
        "## Question 12\n",
        "Write a Python program that counts the frequency of each character in a given string and stores it in a dictionary."
      ],
      "metadata": {
        "id": "O0TVi3gKUTpp"
      }
    },
    {
      "cell_type": "code",
      "source": [
        "def count_character_frequency(s):\n",
        "    \"\"\"\n",
        "    Count the frequency of each character in a given string and store it in a dictionary.\n",
        "\n",
        "    Parameters:\n",
        "    s (str): The input string\n",
        "\n",
        "    Returns:\n",
        "    dict: A dictionary with characters as keys and their frequencies as values\n",
        "    \"\"\"\n",
        "    # Initialize an empty dictionary to store character frequencies\n",
        "    freq_dict = {}\n",
        "\n",
        "    # Iterate over each character in the string\n",
        "    for ch in s:\n",
        "        # Increment the character's count if it is already in the dictionary\n",
        "        if ch in freq_dict:\n",
        "            freq_dict[ch] += 1\n",
        "        # Add the character to the dictionary with a count of 1 if it is not present\n",
        "        else:\n",
        "            freq_dict[ch] = 1\n",
        "\n",
        "    return freq_dict\n",
        "\n",
        "# Example usage\n",
        "str = input(\"Enter a string: \")\n",
        "freq = count_character_frequency(str)\n",
        "print(f\"Character frequencies: {freq}\")\n"
      ],
      "metadata": {
        "id": "lAtfSfZXUU-h",
        "colab": {
          "base_uri": "https://localhost:8080/"
        },
        "outputId": "f199eef8-d3de-472b-b724-f8c5edb41d56"
      },
      "execution_count": 25,
      "outputs": [
        {
          "output_type": "stream",
          "name": "stdout",
          "text": [
            "Enter a string: VenuGopal\n",
            "Character frequencies: {'V': 1, 'e': 1, 'n': 1, 'u': 1, 'G': 1, 'o': 1, 'p': 1, 'a': 1, 'l': 1}\n"
          ]
        }
      ]
    },
    {
      "cell_type": "markdown",
      "metadata": {
        "id": "0v48Vqa7FrQh"
      },
      "source": [
        "## Question 13\n",
        "Implement a Python script to identify duplicate elements in a provided array of integers. Return -1 if there are no duplicates."
      ]
    },
    {
      "cell_type": "code",
      "execution_count": 20,
      "metadata": {
        "id": "7WEmgq-DF2P1",
        "colab": {
          "base_uri": "https://localhost:8080/"
        },
        "outputId": "f30b8aeb-0c94-49bd-f450-94c332d34b82"
      },
      "outputs": [
        {
          "output_type": "stream",
          "name": "stdout",
          "text": [
            "Enter a list of integers separated by spaces: 1 3 5 3 2 \n",
            "Duplicates: [3]\n"
          ]
        }
      ],
      "source": [
        "def find_duplicates(arr):\n",
        "    \"\"\"\n",
        "    Identify duplicate elements in a given array of integers.\n",
        "\n",
        "    Parameters:\n",
        "    arr (list): The input array of integers\n",
        "\n",
        "    Returns:\n",
        "    list: A list of duplicate elements, or -1 if there are no duplicates\n",
        "    \"\"\"\n",
        "    # Initialize an empty set to keep track of seen elements\n",
        "    seen = set()\n",
        "    # Initialize an empty set to keep track of duplicates\n",
        "    duplicates = set()\n",
        "\n",
        "    # Iterate over each element in the array\n",
        "    for nbr in arr:\n",
        "        # If the number is already in the seen set, it's a duplicate\n",
        "        if nbr in seen:\n",
        "            duplicates.add(nbr)\n",
        "        else:\n",
        "            seen.add(nbr)\n",
        "\n",
        "    # Convert the duplicates set to a list\n",
        "    duplicates_list = list(duplicates)\n",
        "\n",
        "    # Return the list of duplicates if there are any, otherwise return -1\n",
        "    return duplicates_list if duplicates_list else -1\n",
        "\n",
        "# Example usage\n",
        "arr = list(map(int, input(\"Enter a list of integers separated by spaces: \").split()))\n",
        "res = find_duplicates(arr)\n",
        "print(f\"Duplicates: {res}\")\n"
      ]
    },
    {
      "cell_type": "markdown",
      "metadata": {
        "id": "vD5PYLMuGga_"
      },
      "source": [
        "## Question 14\n",
        "Write a Python script to find the common elements between two lists."
      ]
    },
    {
      "cell_type": "code",
      "execution_count": 26,
      "metadata": {
        "id": "t0D5kdJUGjjw",
        "colab": {
          "base_uri": "https://localhost:8080/"
        },
        "outputId": "5a38e7b0-5fab-451a-9923-fdfd9c7c7bad"
      },
      "outputs": [
        {
          "output_type": "stream",
          "name": "stdout",
          "text": [
            "Enter elements of the first list separated by spaces: 2 5 7 8\n",
            "Enter elements of the second list separated by spaces: 6 9 4 5\n",
            "Common elements: [5]\n"
          ]
        }
      ],
      "source": [
        "def find_common_elements(list1, list2):\n",
        "    \"\"\"\n",
        "    Find common elements between two lists.\n",
        "\n",
        "    Parameters:\n",
        "    list1 (list): The first list\n",
        "    list2 (list): The second list\n",
        "\n",
        "    Returns:\n",
        "    list: A list of common elements between the two lists\n",
        "    \"\"\"\n",
        "    # Convert lists to sets to find the intersection\n",
        "    set1 = set(list1)\n",
        "    set2 = set(list2)\n",
        "\n",
        "    # Find common elements using set intersection\n",
        "    common_elements = list(set1 & set2)\n",
        "\n",
        "    return common_elements\n",
        "\n",
        "# Example usage\n",
        "l1 = list(map(int, input(\"Enter elements of the first list separated by spaces: \").split()))\n",
        "l2 = list(map(int, input(\"Enter elements of the second list separated by spaces: \").split()))\n",
        "\n",
        "common = find_common_elements(l1, l2)\n",
        "print(f\"Common elements: {common}\")\n"
      ]
    },
    {
      "cell_type": "markdown",
      "metadata": {
        "id": "uHkd-y5VhVWC"
      },
      "source": [
        "## Question 15\n",
        "Write a Python program to randomly divide the students in this class into maximum of eight groups for term projects, each group should have at least 4 students but no more than 6 students (including 6).\n",
        "\n",
        "Here is the students list:\n",
        "\n",
        "student_list_spring_2024=[rb0846,\n",
        "ac1964,\n",
        "hc0612,\n",
        "md0912,\n",
        "ad1198,\n",
        "md0894,\n",
        "md0825,\n",
        "vg0598,\n",
        "vg0433,\n",
        "mh1068,\n",
        "yj0173,\n",
        "pk0553,\n",
        "tk0411,\n",
        "srk0204,\n",
        "sk2922,\n",
        "sk2936,\n",
        "mk1302,\n",
        "mk1317,\n",
        "tk0412,\n",
        "vk0656,\n",
        "sm2985,\n",
        "mm2372,\n",
        "un0045,\n",
        "an0892,\n",
        "sn0913,\n",
        "gp0252,\n",
        "ap1484,\n",
        "mr1765,\n",
        "sr1385,\n",
        "sr1335,\n",
        "hs0665,\n",
        "ms2060,\n",
        "gt0217,\n",
        "nt0385,\n",
        "tv0186,\n",
        "sv1394,\n",
        "sv1752,\n",
        "sv1555,\n",
        "sy0594\n",
        "]\n"
      ]
    },
    {
      "cell_type": "code",
      "execution_count": null,
      "metadata": {
        "id": "3iGbmcOBhTwy",
        "colab": {
          "base_uri": "https://localhost:8080/"
        },
        "outputId": "f0be567b-d5f3-4706-d632-d01a1567f354"
      },
      "outputs": [
        {
          "output_type": "stream",
          "name": "stdout",
          "text": [
            "Group 1: ['pk0553', 'mk1317', 'mm2372', 'tv0186', 'hs0665']\n",
            "Group 2: ['yj0173', 'mk1302', 'sr1335', 'mr1765', 'rb0846']\n",
            "Group 3: ['sm2985', 'hc0612', 'sy0594', 'md0912']\n",
            "Group 4: ['md0894', 'vk0656', 'gp0252', 'ap1484']\n",
            "Group 5: ['ac1964', 'tk0412', 'nt0385', 'sv1752', 'an0892', 'sk2922']\n",
            "Group 6: ['gt0217', 'sr1385', 'ad1198', 'sv1394']\n",
            "Group 7: ['vg0433', 'ms2060', 'un0045', 'md0825', 'sv1555']\n",
            "Group 8: ['vg0598', 'sk2936', 'srk0204', 'tk0411', 'sn0913', 'mh1068']\n"
          ]
        }
      ],
      "source": [
        "import random\n",
        "\n",
        "def create_groups(student_list, max_groups=8, min_group_size=4, max_group_size=6):\n",
        "    \"\"\"\n",
        "    Randomly divide students into groups with specified constraints.\n",
        "\n",
        "    Parameters:\n",
        "    student_list (list): List of student IDs\n",
        "    max_groups (int): Maximum number of groups\n",
        "    min_group_size (int): Minimum number of students per group\n",
        "    max_group_size (int): Maximum number of students per group\n",
        "\n",
        "    Returns:\n",
        "    list: A list of groups, where each group is a list of student IDs\n",
        "    \"\"\"\n",
        "    # Shuffle the student list to ensure random grouping\n",
        "    random.shuffle(student_list)\n",
        "\n",
        "    # Initialize variables\n",
        "    groups = []\n",
        "    start = 0\n",
        "    num_students = len(student_list)\n",
        "\n",
        "    while start < num_students:\n",
        "        # Determine the size of the current group\n",
        "        remaining_students = num_students - start\n",
        "        if remaining_students <= max_group_size:\n",
        "            # Last group, size could be smaller if there aren't enough students\n",
        "            group_size = remaining_students\n",
        "        else:\n",
        "            # Calculate a random group size within the allowed range\n",
        "            group_size = random.randint(min_group_size, max_group_size)\n",
        "\n",
        "        # Create the group and add it to the list of groups\n",
        "        group = student_list[start:start + group_size]\n",
        "        groups.append(group)\n",
        "        start += group_size\n",
        "\n",
        "        # If the number of groups exceeds the maximum allowed, redistribute students\n",
        "        if len(groups) > max_groups:\n",
        "            # Flatten groups into one list\n",
        "            all_students = [student for group in groups for student in group]\n",
        "            # Reshuffle and redistribute students\n",
        "            random.shuffle(all_students)\n",
        "            groups = []\n",
        "            start = 0\n",
        "            while start < len(all_students):\n",
        "                group_size = random.randint(min_group_size, max_group_size)\n",
        "                groups.append(all_students[start:start + group_size])\n",
        "                start += group_size\n",
        "\n",
        "    # Ensure that all groups are within the size limits\n",
        "    for group in groups:\n",
        "        if len(group) < min_group_size or len(group) > max_group_size:\n",
        "            raise ValueError(\"One or more groups do not meet the size constraints.\")\n",
        "\n",
        "    return groups\n",
        "\n",
        "# List of students\n",
        "student_list_spring_2024 = [\n",
        "    'rb0846', 'ac1964', 'hc0612', 'md0912', 'ad1198', 'md0894', 'md0825', 'vg0598',\n",
        "    'vg0433', 'mh1068', 'yj0173', 'pk0553', 'tk0411', 'srk0204', 'sk2922', 'sk2936',\n",
        "    'mk1302', 'mk1317', 'tk0412', 'vk0656', 'sm2985', 'mm2372', 'un0045', 'an0892',\n",
        "    'sn0913', 'gp0252', 'ap1484', 'mr1765', 'sr1385', 'sr1335', 'hs0665', 'ms2060',\n",
        "    'gt0217', 'nt0385', 'tv0186', 'sv1394', 'sv1752', 'sv1555', 'sy0594'\n",
        "]\n",
        "\n",
        "# Create groups\n",
        "groups = create_groups(student_list_spring_2024)\n",
        "\n",
        "# Print the groups\n",
        "for i, group in enumerate(groups, 1):\n",
        "    print(f\"Group {i}: {group}\")\n",
        "\n"
      ]
    },
    {
      "cell_type": "markdown",
      "metadata": {
        "id": "fmZ9vX20Qs3d"
      },
      "source": [
        "## Question 16\n",
        "Create a program that takes a positive integer 'n' as input and prints the count of even numbers from 1 to 'n'. Optimize the loop using the continue statement."
      ]
    },
    {
      "cell_type": "code",
      "execution_count": 27,
      "metadata": {
        "id": "W8Jw6sWMQs3d",
        "colab": {
          "base_uri": "https://localhost:8080/"
        },
        "outputId": "adb3a3a5-7c35-4cac-f2da-6cdf37c43cbe"
      },
      "outputs": [
        {
          "output_type": "stream",
          "name": "stdout",
          "text": [
            "Enter a positive integer: 6 4 8 9 \n",
            "Invalid input: invalid literal for int() with base 10: '6 4 8 9 '\n"
          ]
        }
      ],
      "source": [
        "def count_even_numbers(n1):\n",
        "    \"\"\"\n",
        "    Count the number of even numbers from 1 to n.\n",
        "\n",
        "    Parameters:\n",
        "    n (int): The upper limit (inclusive) for counting even numbers\n",
        "\n",
        "    Returns:\n",
        "    int: The count of even numbers from 1 to n\n",
        "    \"\"\"\n",
        "    count = 0\n",
        "\n",
        "    for i in range(1, n1 + 1):\n",
        "        if i % 2 != 0:\n",
        "            continue  # Skip odd numbers\n",
        "        count += 1\n",
        "\n",
        "    return count\n",
        "\n",
        "# Get user input\n",
        "try:\n",
        "    n1 = int(input(\"Enter a positive integer: \"))\n",
        "    if n1 <= 0:\n",
        "        raise ValueError(\"The number must be positive.\")\n",
        "except ValueError as ve:\n",
        "    print(f\"Invalid input: {ve}\")\n",
        "else:\n",
        "    # Count even numbers\n",
        "    even_count = count_even_numbers(n1)\n",
        "    print(f\"The count of even numbers from 1 to {n1} is: {even_count}\")\n"
      ]
    },
    {
      "cell_type": "markdown",
      "metadata": {
        "id": "hvq4APMhQs3d"
      },
      "source": [
        "## Question 17\n",
        "Develop a Python function called 'count_vowels' that takes a string as input and returns the count of vowels (both lowercase and uppercase) present in the string, ignoring spaces and non-alphabetic characters."
      ]
    },
    {
      "cell_type": "markdown",
      "source": [
        "## Question 18\n",
        "Create a custom exception named ValueTooSmallError in Python. Write a program that takes user input for an age, and if the entered age is less than 18, raise the ValueTooSmallError with an appropriate error message."
      ],
      "metadata": {
        "id": "55FWoSJPVVM6"
      }
    },
    {
      "cell_type": "code",
      "source": [
        "class ValueTooSmallError(Exception):\n",
        "    \"\"\"Custom exception raised when the provided value is too small.\"\"\"\n",
        "    def __init__(self, message=\"The value is too small. Age must be 18 or older.\"):\n",
        "        self.message = message\n",
        "        super().__init__(self.message)\n",
        "\n",
        "def check_age(age):\n",
        "    \"\"\"\n",
        "    Check if the provided age is 18 or older.\n",
        "    Raises:\n",
        "    ValueTooSmallError: If the age is less than 18\n",
        "    \"\"\"\n",
        "    if age < 18:\n",
        "        raise ValueTooSmallError()\n",
        "\n",
        "# Main program\n",
        "try:\n",
        "    age = int(input(\"Enter your age: \"))\n",
        "    check_age(age)\n",
        "    print(\"Age is acceptable.\")\n",
        "except ValueError:\n",
        "    print(\"Invalid input. Please enter a valid integer for age.\")\n",
        "except ValueTooSmallError as e:\n",
        "    print(e)\n",
        "\n"
      ],
      "metadata": {
        "id": "hwtr1wZmVX5A",
        "colab": {
          "base_uri": "https://localhost:8080/"
        },
        "outputId": "cbf3e7fb-eca7-4531-e262-463209cb5e7a"
      },
      "execution_count": null,
      "outputs": [
        {
          "output_type": "stream",
          "name": "stdout",
          "text": [
            "Enter your age: 88\n",
            "Age is acceptable.\n"
          ]
        }
      ]
    },
    {
      "cell_type": "code",
      "execution_count": 29,
      "metadata": {
        "id": "ZnoxhSglQs3d",
        "colab": {
          "base_uri": "https://localhost:8080/"
        },
        "outputId": "e17c5c4a-9a0b-4048-ce7e-bf2a43386225"
      },
      "outputs": [
        {
          "output_type": "stream",
          "name": "stdout",
          "text": [
            "Enter a string: Gopal\n",
            "The count of vowels in the string is: 2\n"
          ]
        }
      ],
      "source": [
        "def count_vowels(str1):\n",
        "    \"\"\"\n",
        "    Count the number of vowels in the given string, ignoring spaces and non-alphabetic characters.\n",
        "\n",
        "    Parameters:\n",
        "    input_string (str): The string to count vowels in\n",
        "\n",
        "    Returns:\n",
        "    int: The count of vowels in the string\n",
        "    \"\"\"\n",
        "    # Define the set of vowels\n",
        "    vwls = \"aeiouAEIOU\"\n",
        "\n",
        "    # Initialize the vowel count\n",
        "    vwl_count = 0\n",
        "\n",
        "    # Iterate through each character in the input string\n",
        "    for char in str1:\n",
        "        # Check if the character is a vowel\n",
        "        if char in vwls:\n",
        "            vwl_count += 1\n",
        "\n",
        "    return vwl_count\n",
        "\n",
        "# Example usage\n",
        "str1 = input(\"Enter a string: \")\n",
        "vwl_count = count_vowels(str1)\n",
        "print(f\"The count of vowels in the string is: {vwl_count}\")\n",
        "\n"
      ]
    },
    {
      "cell_type": "markdown",
      "source": [
        "## Question 19\n",
        "Develop a script that reverses a given string without using built-in reverse functions."
      ],
      "metadata": {
        "id": "Q9ecagcaVazW"
      }
    },
    {
      "cell_type": "code",
      "source": [
        "def reverse_string(s):\n",
        "    \"\"\"\n",
        "    Reverse the given string without using built-in reverse functions.\n",
        "\n",
        "    Parameters:\n",
        "    s (str): The string to reverse\n",
        "\n",
        "    Returns:\n",
        "    str: The reversed string\n",
        "    \"\"\"\n",
        "    reverse_string = \"\"\n",
        "    # Iterate over the string in reverse order\n",
        "    for char in s:\n",
        "        # Prepend each character to the reversed_string\n",
        "        reverse_string = char + reverse_string\n",
        "    return reverse_string\n",
        "\n",
        "# Example usage\n",
        "input_string = input(\"Enter a string to reverse: \")\n",
        "reverse_str = reverse_string(input_string)\n",
        "print(f\"The reversed string is: {reverse_str}\")\n",
        "\n"
      ],
      "metadata": {
        "id": "gycgckoAVZjR",
        "colab": {
          "base_uri": "https://localhost:8080/"
        },
        "outputId": "f49c718c-9207-41c9-ee2b-4dc73d6a63ba"
      },
      "execution_count": null,
      "outputs": [
        {
          "output_type": "stream",
          "name": "stdout",
          "text": [
            "Enter a string to reverse: lapog ydder\n",
            "The reversed string is: reddy gopal\n"
          ]
        }
      ]
    },
    {
      "cell_type": "markdown",
      "source": [
        "## Question 20\n",
        "Implement a Python script to generate a random password of a specified length."
      ],
      "metadata": {
        "id": "ZFG6RibifMLu"
      }
    },
    {
      "cell_type": "code",
      "source": [
        "import random\n",
        "import string\n",
        "\n",
        "def generate_password(length):\n",
        "    \"\"\"\n",
        "    Generate a random password of the specified length.\n",
        "\n",
        "    Parameters:\n",
        "    length (int): The length of the password to generate\n",
        "\n",
        "    Returns:\n",
        "    str: The generated random password\n",
        "    \"\"\"\n",
        "    if length < 1:\n",
        "        raise ValueError(\"Password length must be at least 1.\")\n",
        "\n",
        "    # Define the characters to use in the password\n",
        "    characters = string.ascii_letters + string.digits + string.punctuation\n",
        "\n",
        "    # Generate the password\n",
        "    password = ''.join(random.choice(characters) for _ in range(length))\n",
        "\n",
        "    return password\n",
        "\n",
        "# Example usage\n",
        "try:\n",
        "    length = int(input(\"Enter the desired length of the password: \"))\n",
        "    password = generate_password(length)\n",
        "    print(f\"Generated password: {password}\")\n",
        "except ValueError as ve:\n",
        "    print(f\"Invalid input: {ve}\")\n"
      ],
      "metadata": {
        "id": "BFVrkEi9fNiD",
        "colab": {
          "base_uri": "https://localhost:8080/"
        },
        "outputId": "39230805-3c00-472c-f883-bf29dc748ef4"
      },
      "execution_count": null,
      "outputs": [
        {
          "output_type": "stream",
          "name": "stdout",
          "text": [
            "Enter the desired length of the password: 11\n",
            "Generated password: IoE4K\\iu^mV\n"
          ]
        }
      ]
    },
    {
      "cell_type": "markdown",
      "source": [
        "# Try these questions"
      ],
      "metadata": {
        "id": "6SmvS7nSfbj8"
      }
    },
    {
      "cell_type": "markdown",
      "source": [
        "(21) Define a base class called 'Vehicle' with attributes make and model. Create a derived class Car that inherits from Vehicle and has an additional attribute 'num_doors'. Demonstrate an example of creating an instance of the 'Car' class and accessing its attributes."
      ],
      "metadata": {
        "id": "cboAr5pEWUf5"
      }
    },
    {
      "cell_type": "code",
      "source": [
        "# Define the base class\n",
        "class Vehicle:\n",
        "    def __init__(self, make, model):\n",
        "        self.make = make\n",
        "        self.model = model\n",
        "\n",
        "    def display_info(self):\n",
        "        return f\"Make: {self.make}, Model: {self.model}\"\n",
        "\n",
        "# Define the derived class\n",
        "class Car(Vehicle):\n",
        "    def __init__(self, make, model, nbr_doors):\n",
        "        super().__init__(make, model)\n",
        "        self.nbr_doors = nbr_doors\n",
        "\n",
        "    def display_info(self):\n",
        "        vehicle_info = super().display_info()\n",
        "        return f\"{vehicle_info}, Number of Doors: {self.nbr_doors}\"\n",
        "\n",
        "# Example usage\n",
        "if __name__ == \"__main__\":\n",
        "    # instance of the Car class\n",
        "    my_car = Car(make=\"Toyota\", model=\"Camry\", nbr_doors=4)\n",
        "\n",
        "    # printing attributes\n",
        "    print(f\"Make: {my_car.make}\")\n",
        "    print(f\"Model: {my_car.model}\")\n",
        "    print(f\"Number of Doors: {my_car.nbr_doors}\")\n",
        "\n",
        "    # Display complete information\n",
        "    print(my_car.display_info())\n"
      ],
      "metadata": {
        "id": "phs9gciMWWAW",
        "colab": {
          "base_uri": "https://localhost:8080/"
        },
        "outputId": "3738187c-8cd0-45dc-b0be-256061cc9e6a"
      },
      "execution_count": null,
      "outputs": [
        {
          "output_type": "stream",
          "name": "stdout",
          "text": [
            "Make: Toyota\n",
            "Model: Camry\n",
            "Number of Doors: 4\n",
            "Make: Toyota, Model: Camry, Number of Doors: 4\n"
          ]
        }
      ]
    },
    {
      "cell_type": "markdown",
      "source": [
        "(22) Create a class called 'Shape' with a method calculate_area(). Implement two derived classes 'Circle' and 'Rectangle' that inherit from Shape and override the calculate_area() method. Demonstrate polymorphism by creating instances of both derived classes and calling the calculate_area() method."
      ],
      "metadata": {
        "id": "J8HHefNtePwd"
      }
    },
    {
      "cell_type": "code",
      "source": [
        "import math\n",
        "class Shape:\n",
        "    def calculate_area(self):\n",
        "        raise NotImplementedError(\"Subclasses must implement this method.\")\n",
        "\n",
        "# Derived class for Circle\n",
        "class Circle(Shape):\n",
        "    def __init__(self, radius):\n",
        "        self.radius = radius\n",
        "\n",
        "    def calculate_area(self):\n",
        "        return math.pi * (self.radius ** 2)\n",
        "\n",
        "# Derived class for Rectangle\n",
        "class Rectangle(Shape):\n",
        "    def __init__(self, width, height):\n",
        "        self.width = width\n",
        "        self.height = height\n",
        "\n",
        "    def calculate_area(self):\n",
        "        return self.width * self.height\n",
        "\n",
        "# Demonstrating polymorphism\n",
        "if __name__ == \"__main__\":\n",
        "    # Create instances of Circle and Rectangle\n",
        "    circle = Circle(radius=5)\n",
        "    rectangle = Rectangle(width=4, height=6)\n",
        "\n",
        "    # List of shapes\n",
        "    shapes = [circle, rectangle]\n",
        "\n",
        "    # Calculate and print the area for each shape\n",
        "    for shape in shapes:\n",
        "        print(f\"Area: {shape.calculate_area()}\")\n"
      ],
      "metadata": {
        "id": "btnMmUZDeRhS",
        "colab": {
          "base_uri": "https://localhost:8080/"
        },
        "outputId": "1d19d8c3-556b-403d-d99d-38bd8358dc2e"
      },
      "execution_count": null,
      "outputs": [
        {
          "output_type": "stream",
          "name": "stdout",
          "text": [
            "Area: 78.53981633974483\n",
            "Area: 24\n"
          ]
        }
      ]
    },
    {
      "cell_type": "markdown",
      "source": [
        "(23) Write a Python program that prompts the user to enter two numbers and perform a division operation. Handle exceptions for both zero division and invalid input (non-numeric input). Display appropriate error messages for each type of exception and ensure the program does not crash due to these errors."
      ],
      "metadata": {
        "id": "z0oqEAlTeMUS"
      }
    },
    {
      "cell_type": "code",
      "source": [
        "def divide_numbers():\n",
        "    \"\"\"\n",
        "    Prompt the user to enter two numbers and perform a division operation.\n",
        "    Handle exceptions for zero division and invalid input.\n",
        "    \"\"\"\n",
        "    try:\n",
        "        # Get user input\n",
        "        n1 = input(\"Enter the first number: \")\n",
        "        n2 = input(\"Enter the second number: \")\n",
        "\n",
        "        # Convert inputs to floats\n",
        "        n1 = float(n1)\n",
        "        n2 = float(n2)\n",
        "\n",
        "        # Perform division\n",
        "        res = n1 / n2\n",
        "\n",
        "    except ZeroDivisionError:\n",
        "        print(\"Error: Division by zero is not allowed.\")\n",
        "    except ValueError:\n",
        "        print(\"Error: Invalid input. Please enter numeric values.\")\n",
        "    except Exception as e:\n",
        "        print(f\"An unexpected error occurred: {e}\")\n",
        "    else:\n",
        "        print(f\"The result of dividing {num1} by {num2} is {result}\")\n",
        "\n",
        "if __name__ == \"__main__\":\n",
        "    divide_numbers()\n"
      ],
      "metadata": {
        "id": "yjdc1zM1eMAs",
        "colab": {
          "base_uri": "https://localhost:8080/"
        },
        "outputId": "17e81ee5-f7d2-432f-e83e-5e7c311ce8ea"
      },
      "execution_count": null,
      "outputs": [
        {
          "output_type": "stream",
          "name": "stdout",
          "text": [
            "Enter the first number: 2\n",
            "Enter the second number: 0\n",
            "Error: Division by zero is not allowed.\n"
          ]
        }
      ]
    },
    {
      "cell_type": "markdown",
      "source": [
        "# Mandatory Question"
      ],
      "metadata": {
        "id": "sZOhks1dXWEe"
      }
    },
    {
      "cell_type": "markdown",
      "source": [
        "**Important:**\n",
        "Reflecting on the first three lectures and the exercises you've completed, please provide feedback on your learning experience. Share your thoughts on whether the material covered was clear, the exercises were helpful, and if you feel more confident in applying Python programming concepts. Additionally, mention any specific areas where you would like more clarification or topics you would like to explore further in future lectures. Your feedback is valuable in shaping the course for an effective learning journey."
      ],
      "metadata": {
        "id": "eqmHVEwaWhbV"
      }
    },
    {
      "cell_type": "code",
      "source": [],
      "metadata": {
        "id": "akAVJn9YBTQT"
      },
      "execution_count": null,
      "outputs": []
    },
    {
      "cell_type": "markdown",
      "source": [
        "The material covered in the first three lectures was generally clear and well-organized. The progression from basic concepts to more applied examples\n",
        "helped in building a solid foundation. The explanations were detailed enough to understand the fundamental principles of Python programming.\n",
        "Addressing areas like Object-Oriented Programming (OOP) , File Handling, and Libraries and Modules need more clarification in future lectures will enhance the learning journey and prepare\n",
        "for more advanced programming challenges."
      ],
      "metadata": {
        "id": "cR3xe1KX6B1t"
      }
    }
  ],
  "metadata": {
    "colab": {
      "provenance": []
    },
    "kernelspec": {
      "display_name": "Python 3 (ipykernel)",
      "language": "python",
      "name": "python3"
    },
    "language_info": {
      "codemirror_mode": {
        "name": "ipython",
        "version": 3
      },
      "file_extension": ".py",
      "mimetype": "text/x-python",
      "name": "python",
      "nbconvert_exporter": "python",
      "pygments_lexer": "ipython3",
      "version": "3.9.12"
    }
  },
  "nbformat": 4,
  "nbformat_minor": 0
}