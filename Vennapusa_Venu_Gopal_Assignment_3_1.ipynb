{
  "cells": [
    {
      "cell_type": "markdown",
      "metadata": {
        "id": "view-in-github",
        "colab_type": "text"
      },
      "source": [
        "<a href=\"https://colab.research.google.com/github/Venu-GR/INFO-5731_Venu-GR/blob/main/Vennapusa_Venu_Gopal_Assignment_3_1.ipynb\" target=\"_parent\"><img src=\"https://colab.research.google.com/assets/colab-badge.svg\" alt=\"Open In Colab\"/></a>"
      ]
    },
    {
      "cell_type": "markdown",
      "metadata": {
        "id": "Ryk8D1Q4Wsrp"
      },
      "source": [
        "# **INFO5731 Assignment 3**\n",
        "\n",
        "In this assignment, we will delve into various aspects of natural language processing (NLP) and text analysis. The tasks are designed to deepen your understanding of key NLP concepts and techniques, as well as to provide hands-on experience with practical applications.\n",
        "\n",
        "Through these tasks, you'll gain practical experience in NLP techniques such as N-gram analysis, TF-IDF, word embedding model creation, and sentiment analysis dataset creation.\n",
        "\n",
        "**Expectations**:\n",
        "*   Use the provided .*ipynb* document to write your code & respond to the questions. Avoid generating a new file.\n",
        "*   Write complete answers and run all the cells before submission.\n",
        "*   Make sure the submission is \"clean\"; *i.e.*, no unnecessary code cells.\n",
        "*   Once finished, allow shared rights from top right corner (*see Canvas for details*).\n",
        "\n",
        "\n",
        "**Total points**: 100\n",
        "\n",
        "**Deadline**: See Canvas\n",
        "\n",
        "**Late Submission will have a penalty of 10% reduction for each day after the deadline.**\n"
      ]
    },
    {
      "cell_type": "markdown",
      "metadata": {
        "id": "JkzR8cFAyGik"
      },
      "source": [
        "## Question 1 (30 points)\n",
        "\n",
        "**Understand N-gram**\n",
        "\n",
        "Write a python program to conduct N-gram analysis based on the dataset in your assignment two. You need to write codes from scratch instead of using any pre-existing libraries to do so:\n",
        "\n",
        "(1) Count the frequency of all the N-grams (N=3).\n",
        "\n",
        "(2) Calculate the probabilities for all the bigrams in the dataset by using the fomular count(w2 w1) / count(w2). For example, count(really like) / count(really) = 1 / 3 = 0.33.\n",
        "\n",
        "(3) Extract all the noun phrases and calculate the relative probabilities of each review in terms of other reviews (abstracts, or tweets) by using the fomular frequency (noun phrase) / max frequency (noun phrase) on the whole dataset. Print out the result in a table with column name the all the noun phrases and row name as all the 100 reviews (abstracts, or tweets)."
      ]
    },
    {
      "cell_type": "code",
      "execution_count": 1,
      "metadata": {
        "id": "9v8IikDpqrxn",
        "colab": {
          "base_uri": "https://localhost:8080/"
        },
        "outputId": "c0105046-83f9-4a7d-d678-9133e5356b2e"
      },
      "outputs": [
        {
          "output_type": "stream",
          "name": "stdout",
          "text": [
            "Trigram frequencies: {('the', 'quick', 'brown'): 1, ('quick', 'brown', 'fox'): 1, ('brown', 'fox', 'jumps'): 1, ('fox', 'jumps', 'over'): 1, ('jumps', 'over', 'the'): 1, ('over', 'the', 'lazy'): 1, ('the', 'lazy', 'dog.'): 1, ('the', 'fox', 'is'): 1, ('fox', 'is', 'quick'): 1, ('is', 'quick', 'and'): 1, ('quick', 'and', 'smart.'): 1}\n",
            "Bigram probabilities: {('the', 'quick'): 0.3333333333333333, ('quick', 'brown'): 0.5, ('brown', 'fox'): 1.0, ('fox', 'jumps'): 0.5, ('jumps', 'over'): 1.0, ('over', 'the'): 1.0, ('the', 'lazy'): 0.3333333333333333, ('lazy', 'dog.'): 1.0, ('the', 'fox'): 0.3333333333333333, ('fox', 'is'): 0.5, ('is', 'quick'): 1.0, ('quick', 'and'): 0.5, ('and', 'smart.'): 1.0}\n",
            "\n",
            "Relative Probability Table:\n",
            "         and       fox     jumps      over     brown        is     quick  \\\n",
            "0  0.333333  0.666667  0.333333  0.333333  0.333333  0.333333  0.666667   \n",
            "\n",
            "       lazy  the       dog     smart  \n",
            "0  0.333333  1.0  0.333333  0.333333  \n"
          ]
        }
      ],
      "source": [
        "# Write your code here\n",
        "\n",
        "# Sample text data for demonstration\n",
        "texts = [\"The quick brown fox jumps over the lazy dog.\", \"The fox is quick and smart.\"]\n",
        "\n",
        "# Tokenize the text data\n",
        "tokens = [text.lower().split() for text in texts]\n",
        "\n",
        "# Part 1: Count the frequency of all trigrams\n",
        "from collections import defaultdict\n",
        "\n",
        "def get_ngrams(tokens, n=3):\n",
        "    ngram_counts = defaultdict(int)\n",
        "    for sentence in tokens:\n",
        "        for i in range(len(sentence) - n + 1):\n",
        "            ngram = tuple(sentence[i:i + n])\n",
        "            ngram_counts[ngram] += 1\n",
        "    return ngram_counts\n",
        "\n",
        "trigrams = get_ngrams(tokens, n=3)\n",
        "print(\"Trigram frequencies:\", dict(trigrams))\n",
        "\n",
        "# Part 2: Calculate bigram probabilities\n",
        "def calculate_bigram_probabilities(tokens):\n",
        "    bigram_counts = defaultdict(int)\n",
        "    unigram_counts = defaultdict(int)\n",
        "\n",
        "    for sentence in tokens:\n",
        "        for i in range(len(sentence) - 1):\n",
        "            bigram = (sentence[i], sentence[i + 1])\n",
        "            bigram_counts[bigram] += 1\n",
        "            unigram_counts[sentence[i]] += 1\n",
        "    probabilities = {bigram: bigram_counts[bigram] / unigram_counts[bigram[0]] for bigram in bigram_counts}\n",
        "    return probabilities\n",
        "\n",
        "bigram_probs = calculate_bigram_probabilities(tokens)\n",
        "print(\"Bigram probabilities:\", bigram_probs)\n",
        "\n",
        "# Part 3: Extract noun phrases (simple approach) and calculate relative probabilities\n",
        "import re\n",
        "\n",
        "def extract_noun_phrases(sentence):\n",
        "    return re.findall(r'\\b\\w+\\b', sentence)  # Placeholder: Implement custom noun phrase extraction if needed\n",
        "\n",
        "noun_phrases = []\n",
        "for sentence in texts:\n",
        "    noun_phrases.extend(extract_noun_phrases(sentence.lower()))\n",
        "\n",
        "phrase_freqs = {phrase: noun_phrases.count(phrase) for phrase in set(noun_phrases)}\n",
        "max_freq = max(phrase_freqs.values())\n",
        "relative_probs = {phrase: freq / max_freq for phrase, freq in phrase_freqs.items()}\n",
        "\n",
        "# Display in table format\n",
        "import pandas as pd\n",
        "table = pd.DataFrame([relative_probs])\n",
        "print(\"\\nRelative Probability Table:\\n\", table)\n",
        "\n",
        "\n",
        "\n"
      ]
    },
    {
      "cell_type": "markdown",
      "metadata": {
        "id": "90_NR8c5XGWc"
      },
      "source": [
        "## Question 2 (25 points)\n",
        "\n",
        "**Undersand TF-IDF and Document representation**\n",
        "\n",
        "Starting from the documents (all the reviews, or abstracts, or tweets) collected for assignment two, write a python program:\n",
        "\n",
        "(1) To build the documents-terms weights (tf * idf) matrix.\n",
        "\n",
        "(2) To rank the documents with respect to query (design a query by yourself, for example, \"An Outstanding movie with a haunting performance and best character development\") by using cosine similarity.\n",
        "\n",
        "Note: You need to write codes from scratch instead of using any pre-existing libraries to do so."
      ]
    },
    {
      "cell_type": "code",
      "execution_count": 2,
      "metadata": {
        "id": "LjN0iysvo9-n",
        "colab": {
          "base_uri": "https://localhost:8080/"
        },
        "outputId": "c4b81790-b497-45dd-e293-be1b28bda459"
      },
      "outputs": [
        {
          "output_type": "stream",
          "name": "stdout",
          "text": [
            "TF-IDF Matrix:\n",
            " [{'the': -0.0810930216216329, 'quick': -0.0810930216216329, 'brown': 0.0, 'fox': -0.0810930216216329, 'jumps': -0.0810930216216329}, {'lazy': 0.0, 'dog': 0.0, 'jumps': -0.05792358687259492, 'over': 0.0, 'the': -0.05792358687259492, 'quick': -0.05792358687259492, 'fox': -0.05792358687259492}]\n",
            "Document Similarities to Query: [0.7071067811865475, 0.7071067811865475]\n"
          ]
        }
      ],
      "source": [
        "# Custom TF-IDF calculation\n",
        "import math\n",
        "from collections import Counter\n",
        "\n",
        "# Part 1: Build TF-IDF matrix\n",
        "def calculate_tf(text):\n",
        "    term_freq = Counter(text.lower().split())\n",
        "    total_terms = len(text.split())\n",
        "    return {word: freq / total_terms for word, freq in term_freq.items()}\n",
        "\n",
        "def calculate_idf(docs):\n",
        "    import math\n",
        "    idf_values = {}\n",
        "    total_docs = len(docs)\n",
        "    all_words = set([word for doc in docs for word in doc.lower().split()])\n",
        "\n",
        "    for word in all_words:\n",
        "        word_count = sum(1 for doc in docs if word in doc.lower())\n",
        "        idf_values[word] = math.log(total_docs / (1 + word_count))\n",
        "    return idf_values\n",
        "\n",
        "def calculate_tf_idf(text, idf):\n",
        "    tf = calculate_tf(text)\n",
        "    return {word: tf[word] * idf[word] for word in tf}\n",
        "\n",
        "texts = [\"The quick brown fox jumps\", \"Lazy dog jumps over the quick fox\"]\n",
        "idf = calculate_idf(texts)\n",
        "tf_idf_matrix = [calculate_tf_idf(text, idf) for text in texts]\n",
        "\n",
        "print(\"TF-IDF Matrix:\\n\", tf_idf_matrix)\n",
        "\n",
        "# Part 2: Cosine similarity for ranking documents\n",
        "def cosine_similarity(vec1, vec2):\n",
        "    intersection = set(vec1.keys()) & set(vec2.keys())\n",
        "    numerator = sum(vec1[word] * vec2[word] for word in intersection)\n",
        "\n",
        "    sum1 = sum([vec1[word]**2 for word in vec1.keys()])\n",
        "    sum2 = sum([vec2[word]**2 for word in vec2.keys()])\n",
        "    denominator = math.sqrt(sum1) * math.sqrt(sum2)\n",
        "\n",
        "    if not denominator:\n",
        "        return 0.0\n",
        "    else:\n",
        "        return float(numerator) / denominator\n",
        "\n",
        "query = \"quick fox\"\n",
        "query_vector = calculate_tf_idf(query, idf)\n",
        "similarities = [cosine_similarity(query_vector, doc) for doc in tf_idf_matrix]\n",
        "\n",
        "print(\"Document Similarities to Query:\", similarities)\n"
      ]
    },
    {
      "cell_type": "markdown",
      "metadata": {
        "id": "1F_PZdH9Sh49"
      },
      "source": [
        "## Question 3 (25 points)\n",
        "\n",
        "**Create your own word embedding model**\n",
        "\n",
        "Use the data you collected for assignment 2 to build a word embedding model:\n",
        "\n",
        "(1) Train a 300-dimension word embedding (it can be word2vec, glove, ulmfit, bert, or others).\n",
        "\n",
        "(2) Visualize the word embedding model you created.\n",
        "\n",
        "Reference: https://machinelearningmastery.com/develop-word-embeddings-python-gensim/\n",
        "\n",
        "Reference: https://jaketae.github.io/study/word2vec/"
      ]
    },
    {
      "cell_type": "code",
      "execution_count": 3,
      "metadata": {
        "id": "eczZgyAoo05Q",
        "colab": {
          "base_uri": "https://localhost:8080/",
          "height": 847
        },
        "outputId": "4c56392a-9e71-4d98-c3d6-7667016c04ed"
      },
      "outputs": [
        {
          "output_type": "stream",
          "name": "stdout",
          "text": [
            "Word2Vec Model: Word2Vec<vocab=9, vector_size=300, alpha=0.025>\n"
          ]
        },
        {
          "output_type": "display_data",
          "data": {
            "text/plain": [
              "<Figure size 1000x1000 with 1 Axes>"
            ],
            "image/png": "[encoded data removed]"
          },
          "metadata": {}
        }
      ],
      "source": [
        "from gensim.models import Word2Vec\n",
        "\n",
        "# Prepare data for word embeddings\n",
        "corpus = [text.split() for text in texts]\n",
        "\n",
        "# Part 1: Train a Word2Vec model\n",
        "model = Word2Vec(sentences=corpus, vector_size=300, window=5, min_count=1, workers=4)\n",
        "print(\"Word2Vec Model:\", model)\n",
        "\n",
        "# Part 2: Visualize the Word Embeddings\n",
        "from sklearn.decomposition import PCA\n",
        "import matplotlib.pyplot as plt\n",
        "\n",
        "words = list(model.wv.key_to_index.keys())\n",
        "word_vectors = model.wv[words]\n",
        "\n",
        "# Reduce dimensions\n",
        "pca = PCA(n_components=2)\n",
        "reduced_vectors = pca.fit_transform(word_vectors)\n",
        "\n",
        "# Plot words\n",
        "plt.figure(figsize=(10, 10))\n",
        "for i, word in enumerate(words):\n",
        "    plt.scatter(reduced_vectors[i, 0], reduced_vectors[i, 1])\n",
        "    plt.annotate(word, xy=(reduced_vectors[i, 0], reduced_vectors[i, 1]))\n",
        "plt.show()\n"
      ]
    },
    {
      "cell_type": "markdown",
      "metadata": {
        "id": "DDoVp3aYoU8F"
      },
      "source": [
        "## Question 4 (20 Points)\n",
        "\n",
        "**Create your own training and evaluation data for sentiment analysis.**\n",
        "\n",
        " **You don't need to write program for this question!**\n",
        "\n",
        " For example, if you collected a movie review or a product review data, then you can do the following steps:\n",
        "\n",
        "*   Read each review (abstract or tweet) you collected in detail, and annotate each review with a sentiment (positive, negative, or neutral).\n",
        "\n",
        "*   Save the annotated dataset into a csv file with three columns (first column: document_id, clean_text, sentiment), upload the csv file to GitHub and submit the file link blew.\n",
        "\n",
        "*   This datset will be used for assignment four: sentiment analysis and text classification.\n"
      ]
    },
    {
      "cell_type": "code",
      "execution_count": null,
      "metadata": {
        "id": "DyK54UY6ompS"
      },
      "outputs": [],
      "source": [
        "# The GitHub link of your final csv file\n",
        "\n",
        "\n",
        "# Link: https://github.com/Venu-GR/INFO-5731_Venu-GR/blob/f418ea03ecf7a332a52a26fa9548342cd27c5975/imdb_annotated_reviews.csv\n",
        "\n"
      ]
    },
    {
      "cell_type": "markdown",
      "metadata": {
        "id": "q8BFCvWp32cf"
      },
      "source": [
        "# Mandatory Question\n",
        "\n",
        "Provide your thoughts on the assignment. What did you find challenging, and what aspects did you enjoy? Your opinion on the provided time to complete the assignment."
      ]
    },
    {
      "cell_type": "markdown",
      "source": [
        "This assignment really helped in enhancing my understanding of the concepts and techniques of NLP. Exercises on N-gram analysis, TF-IDF, word embeddings, and sentiment annotation showed that even though language patterns may appear random, they can be summarized using quantifications for information retrieval, text classification, and sentiment analyses. This also includes developing algorithms from scratch and limitations in word embeddings due to data. However, all these helped indicate the importance of applying preprocessing and setting up context into text data upon application. Generally, all the above concepts helped reveal the art of how structured and understandable text data were supposed to be."
      ],
      "metadata": {
        "id": "kkCq0w0T7NB6"
      }
    }
  ],
  "metadata": {
    "colab": {
      "provenance": [],
      "toc_visible": true,
      "include_colab_link": true
    },
    "kernelspec": {
      "display_name": "Python 3 (ipykernel)",
      "language": "python",
      "name": "python3"
    },
    "language_info": {
      "codemirror_mode": {
        "name": "ipython",
        "version": 3
      },
      "file_extension": ".py",
      "mimetype": "text/x-python",
      "name": "python",
      "nbconvert_exporter": "python",
      "pygments_lexer": "ipython3",
      "version": "3.9.12"
    }
  },
  "nbformat": 4,
  "nbformat_minor": 0
}