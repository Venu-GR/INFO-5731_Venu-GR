{
  "cells": [
    {
      "cell_type": "markdown",
      "metadata": {
        "id": "view-in-github",
        "colab_type": "text"
      },
      "source": [
        "<a href=\"https://colab.research.google.com/github/Venu-GR/INFO-5731_Venu-GR/blob/main/Vennapus_Venu_Gopal_Assignment_2.ipynb\" target=\"_parent\"><img src=\"https://colab.research.google.com/assets/colab-badge.svg\" alt=\"Open In Colab\"/></a>"
      ]
    },
    {
      "cell_type": "markdown",
      "metadata": {
        "id": "Ryk8D1Q4Wsrp"
      },
      "source": [
        "# **INFO5731 Assignment 2**\n",
        "\n",
        "In this assignment, you will work on gathering text data from an open data source via web scraping or API. Following this, you will need to clean the text data and perform syntactic analysis on the data. Follow the instructions carefully and design well-structured Python programs to address each question.\n",
        "\n",
        "**Expectations**:\n",
        "*   Use the provided .*ipynb* document to write your code & respond to the questions. Avoid generating a new file.\n",
        "*   Write complete answers and run all the cells before submission.\n",
        "*   Make sure the submission is \"clean\"; *i.e.*, no unnecessary code cells.\n",
        "*   Once finished, allow shared rights from top right corner (*see Canvas for details*).\n",
        "\n",
        "* **Make sure to submit the cleaned data CSV in the comment section - 10 points**\n",
        "\n",
        "**Total points**: 100\n",
        "\n",
        "**Deadline**: Tuesday, at 11:59 PM.\n",
        "\n",
        "**Late Submission will have a penalty of 10% reduction for each day after the deadline.**\n",
        "\n",
        "**Please check that the link you submitted can be opened and points to the correct assignment.**\n"
      ]
    },
    {
      "cell_type": "markdown",
      "metadata": {
        "id": "JkzR8cFAyGik"
      },
      "source": [
        "# Question 1 (40 points)\n",
        "\n",
        "Write a python program to collect text data from **either of the following sources** and save the data into a **csv file:**\n",
        "\n",
        "(1) Collect all the customer reviews of a product (you can choose any porduct) on amazon. [atleast 1000 reviews]\n",
        "\n",
        "(2) Collect the top 1000 User Reviews of a movie recently in 2023 or 2024 (you can choose any movie) from IMDB. [If one movie doesn't have sufficient reviews, collect reviews of atleast 2 or 3 movies]\n",
        "\n",
        "(3) Collect all the reviews of the top 1000 most popular software from G2 or Capterra.\n",
        "\n",
        "(4) Collect the **abstracts** of the top 10000 research papers by using the query \"machine learning\", \"data science\", \"artifical intelligence\", or \"information extraction\" from Semantic Scholar.\n",
        "\n",
        "(5) Collect all the information of the 904 narrators in the Densho Digital Repository.\n"
      ]
    },
    {
      "cell_type": "code",
      "execution_count": null,
      "metadata": {
        "id": "jDyTKYs-yGit",
        "colab": {
          "base_uri": "https://localhost:8080/"
        },
        "outputId": "3efc1c6a-7e87-4a83-c545-e006107a1f51"
      },
      "outputs": [
        {
          "output_type": "stream",
          "name": "stdout",
          "text": [
            "Reviews saved to imdb_reviews_optimized.csv\n"
          ]
        }
      ],
      "source": [
        "# Your code here\n",
        "\n",
        "import requests\n",
        "from bs4 import BeautifulSoup\n",
        "import pandas as pd\n",
        "\n",
        "def collect_imdb_reviews(movie_id, max_reviews=1000):\n",
        "    reviews = []\n",
        "    page = None\n",
        "    while len(reviews) < max_reviews:\n",
        "        url = f\"https://www.imdb.com/title/{movie_id}/reviews/_ajax\"\n",
        "        params = {\"paginationKey\": page} if page else {}\n",
        "        response = requests.get(url, params=params)\n",
        "        soup = BeautifulSoup(response.text, 'html.parser')\n",
        "\n",
        "        review_blocks = soup.find_all('div', class_='text show-more__control')\n",
        "        reviews.extend([block.text for block in review_blocks])\n",
        "\n",
        "        if len(reviews) >= max_reviews:\n",
        "            break\n",
        "\n",
        "        pagination_key = soup.find('div', {'class': 'load-more-data'})\n",
        "        if pagination_key:\n",
        "            page = pagination_key['data-key']\n",
        "        else:\n",
        "            break\n",
        "    return reviews[:max_reviews]\n",
        "\n",
        "\n",
        "\n",
        "all_reviews = collect_imdb_reviews('tt0120338', 500) +  collect_imdb_reviews('tt1877830', 500)\n",
        "df = pd.DataFrame({'review': all_reviews})\n",
        "df.to_csv('imdb_reviews.csv', index=False)\n",
        "print(\"Reviews saved to imdb_reviews_optimized.csv\")"
      ]
    },
    {
      "cell_type": "markdown",
      "metadata": {
        "id": "90_NR8c5XGWc"
      },
      "source": [
        "# Question 2 (30 points)\n",
        "\n",
        "Write a python program to **clean the text data** you collected in the previous question and save the clean data in a new column in the csv file. The data cleaning steps include: [Code and output is required for each part]\n",
        "\n",
        "(1) Remove noise, such as special characters and punctuations.\n",
        "\n",
        "(2) Remove numbers.\n",
        "\n",
        "(3) Remove stopwords by using the stopwords list.\n",
        "\n",
        "(4) Lowercase all texts\n",
        "\n",
        "(5) Stemming.\n",
        "\n",
        "(6) Lemmatization."
      ]
    },
    {
      "cell_type": "code",
      "execution_count": null,
      "metadata": {
        "id": "5QX6bJjGWXY9",
        "colab": {
          "base_uri": "https://localhost:8080/"
        },
        "outputId": "58c9f7eb-284a-4f55-9712-9efd62701d19"
      },
      "outputs": [
        {
          "output_type": "stream",
          "name": "stderr",
          "text": [
            "[nltk_data] Downloading package stopwords to /root/nltk_data...\n",
            "[nltk_data]   Unzipping corpora/stopwords.zip.\n",
            "[nltk_data] Downloading package wordnet to /root/nltk_data...\n",
            "[nltk_data] Downloading package punkt to /root/nltk_data...\n",
            "[nltk_data]   Unzipping tokenizers/punkt.zip.\n"
          ]
        },
        {
          "output_type": "stream",
          "name": "stdout",
          "text": [
            "Cleaned reviews saved to imdb_cleaned_reviews.csv\n"
          ]
        }
      ],
      "source": [
        "import re\n",
        "import re\n",
        "import nltk\n",
        "from nltk.corpus import stopwords\n",
        "from nltk.stem import PorterStemmer, WordNetLemmatizer\n",
        "\n",
        "nltk.download('stopwords')\n",
        "nltk.download('wordnet')\n",
        "nltk.download('punkt')\n",
        "df = pd.read_csv('imdb_reviews.csv')\n",
        "def clean_text(text):\n",
        "    text = re.sub(r'[^A-Za-z\\s]', '', text)\n",
        "    text = re.sub(r'\\d+', '', text)\n",
        "    stop_words = set(stopwords.words('english'))\n",
        "    words = nltk.word_tokenize(text)\n",
        "    words = [word for word in words if word.lower() not in stop_words]\n",
        "    words = [word.lower() for word in words]\n",
        "    ps = PorterStemmer()\n",
        "    words = [ps.stem(word) for word in words]\n",
        "    lemmatizer = WordNetLemmatizer()\n",
        "    words = [lemmatizer.lemmatize(word) for word in words]\n",
        "    return ' '.join(words)\n",
        "df['cleaned_review'] = df['review'].apply(clean_text)\n",
        "df.to_csv('imdb_cleaned_reviews.csv', index=False)\n",
        "print(\"Cleaned reviews saved to imdb_cleaned_reviews.csv\")\n",
        "\n"
      ]
    },
    {
      "cell_type": "markdown",
      "metadata": {
        "id": "1F_PZdH9Sh49"
      },
      "source": [
        "# Question 3 (30 points)\n",
        "\n",
        "Write a python program to **conduct syntax and structure analysis of the clean text** you just saved above. The syntax and structure analysis includes:\n",
        "\n",
        "(1) **Parts of Speech (POS) Tagging:** Tag Parts of Speech of each word in the text, and calculate the total number of N(oun), V(erb), Adj(ective), Adv(erb), respectively.\n",
        "\n",
        "(2) **Constituency Parsing and Dependency Parsing:** print out the constituency parsing trees and dependency parsing trees of all the sentences. Using one sentence as an example to explain your understanding about the constituency parsing tree and dependency parsing tree.\n",
        "\n",
        "(3) **Named Entity Recognition:** Extract all the entities such as person names, organizations, locations, product names, and date from the clean texts, calculate the count of each entity."
      ]
    },
    {
      "cell_type": "code",
      "execution_count": null,
      "metadata": {
        "id": "Y0oOSlsOS0cq",
        "colab": {
          "base_uri": "https://localhost:8080/"
        },
        "outputId": "12f0c7b8-23d1-4ca1-8874-3e6ea4dceb5d"
      },
      "outputs": [
        {
          "output_type": "stream",
          "name": "stdout",
          "text": [
            "POS Counts for the first review: {'Nouns': 37, 'Verbs': 15, 'Adjectives': 19, 'Adverbs': 6}\n",
            "\n",
            "Dependency Parsing for example sentence:\n",
            "Token: your, Dependency: poss, Head: millenni\n",
            "Token: millenni, Dependency: nsubj, Head: attract\n",
            "Token: like, Dependency: prep, Head: millenni\n",
            "Token: probabl, Dependency: amod, Head: phenomenon\n",
            "Token: experienc, Dependency: compound, Head: phenomenon\n",
            "Token: phenomenon, Dependency: npadvmod, Head: known\n",
            "Token: known, Dependency: pcomp, Head: like\n",
            "Token: titanicmania, Dependency: compound, Head: everyon\n",
            "Token: childhood, Dependency: compound, Head: everyon\n",
            "Token: everyon, Dependency: dobj, Head: known\n",
            "Token: ob, Dependency: prep, Head: everyon\n",
            "Token: movi, Dependency: compound, Head: theatr\n",
            "Token: theatr, Dependency: pobj, Head: ob\n",
            "Token: almost, Dependency: advmod, Head: year\n",
            "Token: year, Dependency: nmod, Head: everywher\n",
            "Token: everi, Dependency: amod, Head: girl\n",
            "Token: girl, Dependency: nmod, Head: everywher\n",
            "Token: ob, Dependency: prep, Head: girl\n",
            "Token: leonardo, Dependency: compound, Head: everywher\n",
            "Token: dicaprio, Dependency: nmod, Head: everywher\n",
            "Token: titan, Dependency: compound, Head: everywher\n",
            "Token: everywher, Dependency: appos, Head: millenni\n",
            "Token: late, Dependency: amod, Head: gushi\n",
            "Token: popular, Dependency: amod, Head: gushi\n",
            "Token: reput, Dependency: compound, Head: gushi\n",
            "Token: gushi, Dependency: compound, Head: romanc\n",
            "Token: romanc, Dependency: nmod, Head: movi\n",
            "Token: movi, Dependency: nmod, Head: girl\n",
            "Token: popular, Dependency: amod, Head: girl\n",
            "Token: teenag, Dependency: compound, Head: girl\n",
            "Token: girl, Dependency: appos, Head: millenni\n",
            "Token: attract, Dependency: ccomp, Head: suggest\n",
            "Token: lot, Dependency: dobj, Head: attract\n",
            "Token: hate, Dependency: ccomp, Head: attract\n",
            "Token: despit, Dependency: compound, Head: numer\n",
            "Token: win, Dependency: compound, Head: numer\n",
            "Token: numer, Dependency: compound, Head: titan\n",
            "Token: oscar, Dependency: compound, Head: titan\n",
            "Token: titan, Dependency: nmod, Head: time\n",
            "Token: longest, Dependency: amod, Head: time\n",
            "Token: time, Dependency: npadvmod, Head: hate\n",
            "Token: neg, Dependency: compound, Head: reput\n",
            "Token: reput, Dependency: nsubj, Head: especi\n",
            "Token: especi, Dependency: relcl, Head: time\n",
            "Token: among, Dependency: prep, Head: especi\n",
            "Token: menin, Dependency: compound, Head: hindsight\n",
            "Token: hindsight, Dependency: pobj, Head: among\n",
            "Token: imag, Dependency: amod, Head: surround\n",
            "Token: titan, Dependency: compound, Head: shape\n",
            "Token: shape, Dependency: compound, Head: surround\n",
            "Token: neg, Dependency: compound, Head: landscap\n",
            "Token: medium, Dependency: amod, Head: landscap\n",
            "Token: landscap, Dependency: compound, Head: surround\n",
            "Token: surround, Dependency: dobj, Head: attract\n",
            "Token: late, Dependency: amod, Head: highli\n",
            "Token: highli, Dependency: npadvmod, Head: attract\n",
            "Token: suggest, Dependency: ROOT, Head: suggest\n",
            "Token: give, Dependency: xcomp, Head: suggest\n",
            "Token: anoth, Dependency: dobj, Head: give\n",
            "Token: go, Dependency: ROOT, Head: go\n",
            "Token: realli, Dependency: compound, Head: wonder\n",
            "Token: wonder, Dependency: compound, Head: film\n",
            "Token: film, Dependency: nsubj, Head: enjoy\n",
            "Token: enjoy, Dependency: ccomp, Head: go\n",
            "Token: fun, Dependency: dobj, Head: enjoy\n",
            "Token: even, Dependency: advmod, Head: effect\n",
            "Token: your, Dependency: poss, Head: effect\n",
            "Token: guy, Dependency: nmod, Head: effect\n",
            "Token: special, Dependency: amod, Head: effect\n",
            "Token: effect, Dependency: dobj, Head: enjoy\n",
            "Token: second, Dependency: npadvmod, Head: enjoy\n",
            "Token: none, Dependency: nsubj, Head: act\n",
            "Token: act, Dependency: relcl, Head: second\n",
            "Token: great, Dependency: amod, Head: horner\n",
            "Token: jame, Dependency: compound, Head: horner\n",
            "Token: horner, Dependency: npadvmod, Head: enjoy\n",
            "Token: soundtrack, Dependency: compound, Head: absolut\n",
            "Token: absolut, Dependency: nsubj, Head: love\n",
            "Token: majest, Dependency: amod, Head: absolut\n",
            "Token: even, Dependency: advmod, Head: love\n",
            "Token: love, Dependency: nmod, Head: endear\n",
            "Token: stori, Dependency: compound, Head: bit\n",
            "Token: bit, Dependency: dobj, Head: love\n",
            "Token: gushi, Dependency: compound, Head: part\n",
            "Token: part, Dependency: nmod, Head: endear\n",
            "Token: actual, Dependency: amod, Head: endear\n",
            "Token: quit, Dependency: nmod, Head: endear\n",
            "Token: sweet, Dependency: amod, Head: endear\n",
            "Token: endear, Dependency: nsubj, Head: rose\n",
            "Token: rose, Dependency: ccomp, Head: enjoy\n",
            "Token: jack, Dependency: nmod, Head: advic\n",
            "Token: full, Dependency: amod, Head: realiz\n",
            "Token: realiz, Dependency: nmod, Head: advic\n",
            "Token: strong, Dependency: amod, Head: advic\n",
            "Token: charact, Dependency: compound, Head: care\n",
            "Token: care, Dependency: nmod, Head: advic\n",
            "Token: aboutmi, Dependency: nmod, Head: advic\n",
            "Token: advic, Dependency: compound, Head: especi\n",
            "Token: especi, Dependency: nsubj, Head: told\n",
            "Token: someth, Dependency: amod, Head: year\n",
            "Token: year, Dependency: npadvmod, Head: old\n",
            "Token: old, Dependency: amod, Head: men\n",
            "Token: men, Dependency: nsubj, Head: told\n",
            "Token: told, Dependency: ROOT, Head: told\n",
            "Token: life, Dependency: compound, Head: titan\n",
            "Token: titan, Dependency: compound, Head: suck\n",
            "Token: suck, Dependency: dobj, Head: told\n",
            "Token: give, Dependency: ccomp, Head: told\n",
            "Token: chanc, Dependency: dobj, Head: give\n",
            "Token: your, Dependency: poss, Head: movi\n",
            "Token: sleep, Dependency: nmod, Head: drama\n",
            "Token: great, Dependency: amod, Head: drama\n",
            "Token: drama, Dependency: compound, Head: movi\n",
            "Token: great, Dependency: amod, Head: movi\n",
            "Token: action, Dependency: compound, Head: movi\n",
            "Token: movi, Dependency: dobj, Head: give\n",
            "Token: well, Dependency: advmod, Head: told\n",
            "\n",
            "Named Entity Recognition for example sentence:\n",
            "Entity: neg, Label: PERSON\n",
            "Entity: second, Label: ORDINAL\n",
            "Entity: someth year old, Label: DATE\n"
          ]
        }
      ],
      "source": [
        "import spacy\n",
        "import pandas as pd\n",
        "\n",
        "df = pd.read_csv('imdb_cleaned_reviews.csv')\n",
        "\n",
        "nlp = spacy.load(\"en_core_web_sm\")\n",
        "\n",
        "def pos_analysis(text):\n",
        "    doc = nlp(text)\n",
        "    pos_counts = {\n",
        "        'Nouns': len([token for token in doc if token.pos_ == 'NOUN']),\n",
        "        'Verbs': len([token for token in doc if token.pos_ == 'VERB']),\n",
        "        'Adjectives': len([token for token in doc if token.pos_ == 'ADJ']),\n",
        "        'Adverbs': len([token for token in doc if token.pos_ == 'ADV'])\n",
        "    }\n",
        "    return pos_counts\n",
        "\n",
        "pos_counts = pos_analysis(df['cleaned_review'][0])\n",
        "print(\"POS Counts for the first review:\", pos_counts)\n",
        "\n",
        "def parse_sentence(text):\n",
        "    doc = nlp(text)\n",
        "    for token in doc:\n",
        "        print(f\"Token: {token.text}, Dependency: {token.dep_}, Head: {token.head.text}\")\n",
        "def named_entity_recognition(text):\n",
        "    doc = nlp(text)\n",
        "    for ent in doc.ents:\n",
        "        print(f\"Entity: {ent.text}, Label: {ent.label_}\")\n",
        "example_sentence = df['cleaned_review'][0]\n",
        "print(\"\\nDependency Parsing for example sentence:\")\n",
        "parse_sentence(example_sentence)\n",
        "print(\"\\nNamed Entity Recognition for example sentence:\")\n",
        "named_entity_recognition(example_sentence)\n"
      ]
    },
    {
      "cell_type": "markdown",
      "source": [
        "#**Comment**\n",
        "Make sure to submit the cleaned data CSV in the comment section - 10 points"
      ],
      "metadata": {
        "id": "CXNn1lEVbMsv"
      }
    },
    {
      "cell_type": "code",
      "source": [],
      "metadata": {
        "id": "qYRO5Cn8bYwZ"
      },
      "execution_count": null,
      "outputs": []
    },
    {
      "cell_type": "markdown",
      "source": [
        "# Mandatory Question\n",
        "\n",
        "Provide your thoughts on the assignment. What did you find challenging, and what aspects did you enjoy? Your opinion on the provided time to complete the assignment."
      ],
      "metadata": {
        "id": "q8BFCvWp32cf"
      }
    },
    {
      "cell_type": "markdown",
      "source": [
        "This task was a perfect time to try forward with text scraping, data cleaning and other style of syntactic analysis techniques. Hardest part for this project was the deeper cleansing of text data particularly stemming and lemmatization. I particularly loved trying different styles of parsing and sentence structure. The timeframe allocated was adequate to achieve the task, but it took some extra work in configuring the environment for parsing tools.\n",
        "."
      ],
      "metadata": {
        "id": "Gf5omw94o-hk"
      }
    },
    {
      "cell_type": "code",
      "source": [],
      "metadata": {
        "id": "n5Jj8q29pHnJ"
      },
      "execution_count": null,
      "outputs": []
    }
  ],
  "metadata": {
    "colab": {
      "provenance": [],
      "include_colab_link": true
    },
    "kernelspec": {
      "display_name": "Python 3 (ipykernel)",
      "language": "python",
      "name": "python3"
    },
    "language_info": {
      "codemirror_mode": {
        "name": "ipython",
        "version": 3
      },
      "file_extension": ".py",
      "mimetype": "text/x-python",
      "name": "python",
      "nbconvert_exporter": "python",
      "pygments_lexer": "ipython3",
      "version": "3.9.12"
    }
  },
  "nbformat": 4,
  "nbformat_minor": 0
}