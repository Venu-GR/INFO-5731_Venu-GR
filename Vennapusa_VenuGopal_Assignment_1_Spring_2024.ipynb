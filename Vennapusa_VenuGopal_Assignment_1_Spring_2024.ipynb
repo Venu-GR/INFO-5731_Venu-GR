{
  "cells": [
    {
      "cell_type": "markdown",
      "metadata": {
        "id": "view-in-github",
        "colab_type": "text"
      },
      "source": [
        "<a href=\"https://colab.research.google.com/github/Venu-GR/INFO-5731_Venu-GR/blob/main/Vennapusa_VenuGopal_Assignment_1_Spring_2024.ipynb\" target=\"_parent\"><img src=\"https://colab.research.google.com/assets/colab-badge.svg\" alt=\"Open In Colab\"/></a>"
      ]
    },
    {
      "cell_type": "markdown",
      "metadata": {
        "id": "Ryk8D1Q4Wsrp"
      },
      "source": [
        "# **INFO5731 Assignment One**"
      ]
    },
    {
      "cell_type": "markdown",
      "source": [
        "This assignment includes range of programming tasks and data analysis exercises, aiming to enhance your Python skills and proficiency in string manipulation, numerical computations, and data science. Follow the instructions carefully and design well-structured Python programs to address each question.\n",
        "\n",
        "Late Submission will have a penalty of 10% reduction for each day after the deadline."
      ],
      "metadata": {
        "id": "qcP6re2g5A5r"
      }
    },
    {
      "cell_type": "markdown",
      "metadata": {
        "id": "JkzR8cFAyGik"
      },
      "source": [
        "# Question 1 (10 points).\n",
        "\n",
        "The formula that describes the volume V of a hemisphere with radius r is the following:\n",
        "\n",
        "$ V=\\frac{2}{3}\\ast\\ \\pi\\ast\\ r^3 $\n",
        "\n",
        "Write a program to calculate the value of V when r is in the range of even numbers from 1-20. Output the result in the following format:\n",
        "\n",
        "\tr\tV\n",
        "\t2\t…\n",
        "\t4\t…\n",
        "\t6\t…\n",
        "\t.\n",
        "\t.\n",
        "\t.\n",
        "\t20\t…\n"
      ]
    },
    {
      "cell_type": "code",
      "execution_count": null,
      "metadata": {
        "id": "jDyTKYs-yGit",
        "colab": {
          "base_uri": "https://localhost:8080/"
        },
        "outputId": "75c6b43c-fa3e-4655-c66a-e1a90f666b32"
      },
      "outputs": [
        {
          "output_type": "stream",
          "name": "stdout",
          "text": [
            "r\tV\n",
            "2\t16.755160819145562\n",
            "4\t134.0412865531645\n",
            "6\t452.38934211693015\n",
            "8\t1072.330292425316\n",
            "10\t2094.3951023931954\n",
            "12\t3619.114736935441\n",
            "14\t5747.0201609669275\n",
            "16\t8578.642339402528\n",
            "18\t12214.512237157114\n",
            "20\t16755.160819145563\n"
          ]
        }
      ],
      "source": [
        "import math\n",
        "\n",
        "for r in range(0, 21, 2):\n",
        "  if r == 0:\n",
        "    print(\"r\\tV\")\n",
        "    continue\n",
        "  else:\n",
        "    print(f\"{r}\\t{(2 / 3) * math.pi * r ** 3}\")"
      ]
    },
    {
      "cell_type": "markdown",
      "metadata": {
        "id": "90_NR8c5XGWc"
      },
      "source": [
        "# Question 2 (20 points)\n",
        "\n",
        "(a) Write a Python program to generate a sequence of 12 random numbers falling within the range of 50 to 150.\n",
        "\n",
        "(b) Arrange the generated numbers in ascending order. Display the sorted list.\n",
        "\n",
        "(c) Extend the program to arrange the numbers in descending order as well. Present the sorted list accordingly.\n",
        "\n",
        "(d) Compute and output the average of the entire group of generated numbers.\n",
        "\n",
        "(e) Enhance the program to calculate and display the average of the first 6 numbers from both the ascending and descending sorted lists."
      ]
    },
    {
      "cell_type": "code",
      "execution_count": 6,
      "metadata": {
        "id": "5QX6bJjGWXY9",
        "colab": {
          "base_uri": "https://localhost:8080/"
        },
        "outputId": "ba7dccb1-52cf-49ae-b3e2-c4ade0dfb361"
      },
      "outputs": [
        {
          "output_type": "stream",
          "name": "stdout",
          "text": [
            "Random Numbers:\n",
            "[66, 130, 128, 122, 92, 115, 99, 137, 67, 93, 58, 145]\n",
            "Ascending Order:\n",
            "[58, 66, 67, 92, 93, 99, 115, 122, 128, 130, 137, 145]\n",
            "Descending Order:\n",
            "[145, 137, 130, 128, 122, 115, 99, 93, 92, 67, 66, 58]\n",
            "Average of all numbers:\n",
            "104.33333333333333\n",
            "Average of first 6 (Ascending):\n",
            "79.16666666666667\n",
            "Average of first 6 (Descending):\n",
            "129.5\n"
          ]
        }
      ],
      "source": [
        "import random\n",
        "\n",
        "#Write a Python program to generate a sequence of 12 random numbers falling within the range of 50 to 150.\n",
        "rn = []\n",
        "for i in range(12):\n",
        "  rn.append(random.randint(50, 150))\n",
        "\n",
        "print(\"Random Numbers:\")\n",
        "print(rn)\n",
        "\n",
        "#Arrange the generated numbers in ascending order. Display the sorted list.\n",
        "an = sorted(rn)\n",
        "print(\"Ascending Order:\")\n",
        "print(an)\n",
        "\n",
        "#Extend the program to arrange the numbers in descending order as well. Present the sorted list accordingly.\n",
        "dn = sorted(rn, reverse=True)\n",
        "print(\"Descending Order:\")\n",
        "print(dn)\n",
        "\n",
        "#Compute and output the average of the entire group of generated numbers.\n",
        "print(\"Average of all numbers:\")\n",
        "print(sum(rn) / len(rn))\n",
        "\n",
        "#Enhance the program to calculate and display the average of the first 6 numbers from both the ascending and descending sorted lists.\n",
        "avg6_an = sum(an[:6]) / 6\n",
        "avg6_dn = sum(dn[:6]) / 6\n",
        "\n",
        "print(\"Average of first 6 (Ascending):\")\n",
        "print(avg6_an)\n",
        "print(\"Average of first 6 (Descending):\")\n",
        "print(avg6_dn)"
      ]
    },
    {
      "cell_type": "markdown",
      "metadata": {
        "id": "1F_PZdH9Sh49"
      },
      "source": [
        "# Question 3 (20 points).\n",
        "\n",
        "Create a Python program that encompasses various string manipulation task:\n",
        "\n",
        "(a) Prompt the user to input two sentences.\n",
        "\n",
        "(b) Transform each sentence into a list, where each element corresponds to a word in the sentence. For example, if the sentences are \"Hello, how are you doing today?\" and \"This is an example sentence for the program!\"\n",
        "\n",
        "The program should output:\n",
        "['Hello', ',', 'how', 'are', 'you', 'doing', 'today', '?', 'This', 'is', 'an', 'example', 'sentence', 'for', 'the', 'program', '!']\n",
        "\n",
        "(c) Compare the two sentences. Print out a list of words that occur in both sentences.\n",
        "\n",
        "(d) Remove any punctuation from the sentence and print the sanitized sentences. It should remove at least the following characters, but it can remove more: period(“.”), comma (“,”), semicolon (“;”), and colon (“:”).\n",
        "\n",
        "(e) Count the number of vowels in each of the sentences. Print out each vowel and the occurrences  in the each of the two sentences separately, such as:\n",
        "\n",
        "Sentence1: a:2, e:2, i:0, etc.\n",
        "Sentence2: a:1, e:2, i:2, etc.\n",
        "\n",
        "Design a well-structured Python program to execute these tasks efficiently."
      ]
    },
    {
      "cell_type": "code",
      "execution_count": 4,
      "metadata": {
        "id": "Y0oOSlsOS0cq",
        "colab": {
          "base_uri": "https://localhost:8080/"
        },
        "outputId": "2bfe8929-dc36-4b18-a110-d892935b73f5"
      },
      "outputs": [
        {
          "output_type": "stream",
          "name": "stdout",
          "text": [
            "Enter sentence1: ihugiyu cvybjn \n",
            "ENter sentence2:fcgh j tvhbjk  oui \n",
            "['ihugiyu', 'cvybjn']\n",
            "['fcgh', 'j', 'tvhbjk', 'oui']\n",
            "Common words: set()\n",
            "Sanitized Sentence 1:\n",
            "ihugiyu cvybjn \n",
            "Sanitized Sentence 2:\n",
            "fcgh j tvhbjk  oui \n",
            "Vowel count in Sentence 1: 4\n",
            "Vowel count in Sentence 2: 3\n"
          ]
        }
      ],
      "source": [
        "import string\n",
        "\n",
        "#Prompt the user to input two sentences.\n",
        "s1 = input(\"Enter sentence1: \")\n",
        "s2 = input(\"ENter sentence2:\")\n",
        "\n",
        "#Transform each sentence into a list, where each element corresponds to a word in the sentence. For example, if the sentences are \"Hello, how are you doing today?\" and \"This is an example sentence for the program!\"\n",
        "list1,list2 = s1.split(),s2.split()\n",
        "print(list1)\n",
        "print(list2)\n",
        "\n",
        "#Compare the two sentences. Print out a list of words that occur in both sentences.\n",
        "common = set(list1)& set(list2)\n",
        "print(\"Common words:\", common)\n",
        "\n",
        "#Remove any punctuation from the sentence and print the sanitized sentences. It should remove at least the following characters, but it can remove more: period(“.”), comma (“,”), semicolon (“;”), and colon (“:”).\n",
        "def remove_punctuation(s):\n",
        "  return s.translate(str.maketrans('', '', string.punctuation))\n",
        "\n",
        "print(\"Sanitized Sentence 1:\")\n",
        "print(remove_punctuation(s1))\n",
        "print(\"Sanitized Sentence 2:\")\n",
        "print(remove_punctuation(s2))\n",
        "\n",
        "#Count the number of vowels in each of the sentences. Print out each vowel and the occurrences in the each of the two sentences separately\n",
        "def VowelsCount(s):\n",
        "  vl = ['a','e','i','o','u']\n",
        "  s = s.lower()\n",
        "  count = 0\n",
        "  for i in s:\n",
        "      if i in vl:\n",
        "          count += 1\n",
        "  return count\n",
        "\n",
        "print(\"Vowel count in Sentence 1:\", VowelsCount(remove_punctuation(s1)))\n",
        "\n",
        "print(\"Vowel count in Sentence 2:\", VowelsCount(remove_punctuation(s2)))\n",
        "\n",
        "\n"
      ]
    },
    {
      "cell_type": "markdown",
      "source": [
        "# Question 4 (20 Points)"
      ],
      "metadata": {
        "id": "OP4-5qxAtInv"
      }
    },
    {
      "cell_type": "markdown",
      "source": [
        "Design and implement a simple command-line calculator program. The program should handle both integers and floating-point numbers.\n",
        "\n",
        "(a) Write program that takes a mathematical expression as input and evaluates it. The program should support addition, subtraction, multiplication, and division.\n",
        "\n",
        "(b) Extend the calculator to handle parentheses in mathematical expressions. Implement the necessary logic to evaluate expressions with nested parentheses.\n",
        "\n",
        "(c) Enhance your calculator to include additional mathematical operations such as exponentiation, square root, and modulus.\n",
        "\n",
        "(d) Implement error handling in the calculator program. Handle cases such as division by zero and invalid input expressions. Provide meaningful error messages.\n",
        "\n",
        "(e) Implement a command to exit the calculator."
      ],
      "metadata": {
        "id": "uzN4_hDptK9U"
      }
    },
    {
      "cell_type": "code",
      "source": [
        "def eval_exp(exp):\n",
        "  try:\n",
        "    result = eval(exp)\n",
        "    return result\n",
        "  except ZeroDivisionError:\n",
        "    return \"Error: Division by zero!\"\n",
        "  except Exception as e:\n",
        "\n",
        "    return \"Error: \" + e\n",
        "\n",
        "\n",
        "print(\"Welcome to the calculator\")\n",
        "print(\"Enter 'exit' to quit\")\n",
        "print(\"Supported operations: +, -, *, /\")\n",
        "while True:\n",
        "  exp = input(\"Enter expression\")\n",
        "  if exp.lower() == \"exit\":\n",
        "      break\n",
        "  res = eval_exp(exp)\n",
        "  print(res)\n",
        "\n"
      ],
      "metadata": {
        "id": "8nQnVxjJuYtu",
        "colab": {
          "base_uri": "https://localhost:8080/"
        },
        "outputId": "4c5748d4-d331-4925-ad09-5f4f7b3646a2"
      },
      "execution_count": null,
      "outputs": [
        {
          "name": "stdout",
          "output_type": "stream",
          "text": [
            "Welcome to the calculator.\n",
            "Enter 'exit' to quit.\n",
            "Supported operations: +, -, *, /\n",
            "Enter an expression: 2-4\n",
            "Result: -2\n",
            "Enter an expression: exit\n"
          ]
        }
      ]
    },
    {
      "cell_type": "markdown",
      "metadata": {
        "id": "z3tBE7E-Xn5X"
      },
      "source": [
        "# Question 5 (30 points).\n",
        "\n",
        "In the field of Data Science, data is often formatted as a comma-delimited (CSV) file, where each line in a file corresponds to a field's value. Refer to Chapter 9 (p. 106) for more information on comma-delimited files.\n",
        "\n",
        "To answer this question, you will need to download the file [Assignment1_denton_housing.csv](https://raw.githubusercontent.com/unt-iialab/info5731-spring2022/main/assignments/Assignment1_denton_housing.csv) included with this assignment. The file contains statistics about housing in the city of Denton from 2008 to 2014. Write a program to implement the following questions.\n",
        "\n",
        "(a) (5 pts) Calculate the difference in the number of Occupied Housing Units from year to year and print it. The difference must be calculated for the consecutive years such as 2008-2009, 2009-2010 etc. Finally, print the values in the ascending order.\n",
        "\n",
        "(b) (5 pts) For all the years, calculate the percentage of housing units which are vacant an occupied. Print the results in the following format:\n",
        "\n",
        "Year Vacant Housing Units Occupied Housing Units\n",
        "\n",
        "    2008  30%   70%                          \n",
        "\t2009 ----- -----\n",
        "\t2010 ----- -----\n",
        "    2011 ----- -----\n",
        "\t2012 ----- -----\n",
        "    2013 ----- -----\n",
        "\t2014 ----- -----\n",
        "  \n",
        "  \n",
        "\n",
        "(c) (10 pts) Calculate and print the valued and years in which the highest number of housing units were vacant and occupied. Print the results in the following format:  \n",
        "\n",
        "                              Year\tValue\n",
        "\tVacant Housing Units\t  -----   -----\n",
        "\tOccupied Housing Units\t-----   -----\n",
        "\n",
        "(d) (10 pts) Calculate the harmonic mean of the total housing units and print it out. You can find the information about harmonic mean here: https://ncalculators.com/statistics/harmonic-mean-calculator.htm"
      ]
    },
    {
      "cell_type": "code",
      "execution_count": null,
      "metadata": {
        "id": "lqGYuHBhcsRH",
        "colab": {
          "base_uri": "https://localhost:8080/"
        },
        "outputId": "ce18cf27-467b-4c2c-f92f-db54ba265cf6"
      },
      "outputs": [
        {
          "output_type": "stream",
          "name": "stdout",
          "text": [
            "    year             title_field  value  yearly difference\n",
            "14  2010  Occupied Housing Units  41007              303.0\n",
            "20  2008  Occupied Housing Units  36711              795.0\n",
            "11  2011  Occupied Housing Units  40704             1404.0\n",
            "8   2012  Occupied Housing Units  42108             1565.0\n",
            "5   2013  Occupied Housing Units  43673             2622.0\n",
            "17  2009  Occupied Housing Units  35916             5091.0\n",
            "   year  Vacant Percentage  Occupied Percentage\n",
            "0  2013           8.582948            88.930746\n",
            "1  2012                NaN                  NaN\n",
            "2  2011                NaN                  NaN\n",
            "3  2010           7.590628            85.631056\n",
            "4  2009                NaN                  NaN\n",
            "5  2008                NaN                  NaN\n",
            "Max Vacant Year: 2008\n",
            "Value: 4483\n",
            "Max Occupied Year: 2013\n",
            "Value: 43673\n",
            "Harmonic Mean of Total Housing Units:\n",
            "44398.28543969185\n"
          ]
        },
        {
          "output_type": "stream",
          "name": "stderr",
          "text": [
            "<ipython-input-21-52d35133a88c>:8: SettingWithCopyWarning: \n",
            "A value is trying to be set on a copy of a slice from a DataFrame.\n",
            "Try using .loc[row_indexer,col_indexer] = value instead\n",
            "\n",
            "See the caveats in the documentation: https://pandas.pydata.org/pandas-docs/stable/user_guide/indexing.html#returning-a-view-versus-a-copy\n",
            "  df_occ['yearly difference'] = df_occ['value'].diff().abs()\n"
          ]
        }
      ],
      "source": [
        "import pandas as pd\n",
        "\n",
        "# Load the dataset\n",
        "df = pd.read_csv('Assignment1_denton_housing.csv')\n",
        "\n",
        "#Calculate the difference in the number of Occupied Housing Units from year to year and print it. The difference must be calculated for the consecutive years such as 2008-2009, 2009-2010 etc. Finally, print the values in the ascending order.\n",
        "df_occ = df[df['title_field'] == 'Occupied Housing Units']\n",
        "yearly_differences = []\n",
        "previous_value = None\n",
        "for index, row in df_occ.iterrows():\n",
        "  current_value = row['value']\n",
        "  if previous_value is not None:\n",
        "      difference = abs(current_value - previous_value)\n",
        "      yearly_differences.append((row['year'], difference))\n",
        "  previous_value = current_value\n",
        "yearly_differences.sort(key=lambda x: x[1])\n",
        "for year, difference in yearly_differences:\n",
        "  print(f\"Year: {year}, Yearly Difference: {difference}\")\n",
        "\n",
        "#For all the years, calculate the percentage of housing units which are vacant an occupied. Print the results in the following format:Year Vacant Housing Units Occupied Housing Units\n",
        "de_tot = df[df['title_field'] == 'Total Housing Units']\n",
        "df_vac = df[df['title_field'] == 'Vacant Housing Units']\n",
        "df_prcnt = pd.merge(df_vac, df_occ, on='year', suffixes=('_Vacant', '_Occupied'))\n",
        "df_prcnt['Vacant Percentage'] = (df_prcnt['value_Vacant'] / de_tot['value']) * 100\n",
        "df_prcnt['Occupied Percentage'] = (df_prcnt['value_Occupied'] / de_tot['value']) * 100\n",
        "print(df_prcnt[['year', 'Vacant Percentage', 'Occupied Percentage']])\n",
        "\n",
        "#Calculate and print the valued and years in which the highest number of housing units were vacant and occupied. Print the results in the following format:\n",
        "max_vac = df_vac[df_vac['value'] == df_vac['value'].max()]\n",
        "max_occ = df_occ[df_occ['value'] == df_occ['value'].max()]\n",
        "print(\"Max Vacant Year:\", max_vac['year'].values[0])\n",
        "print(\"Value:\", max_vac['value'].values[0])\n",
        "print(\"Max Occupied Year:\", max_occ['year'].values[0])\n",
        "print(\"Value:\", max_occ['value'].values[0])\n",
        "\n",
        "#Calculate the harmonic mean of the total housing units and print it out. You can find the information about harmonic mean here: https://ncalculators.com/statistics/harmonic-mean-calculator.htm\n",
        "tot_unts = de_tot['value']\n",
        "har_mean = len(tot_unts) / sum(1.0 / x for x in tot_unts)\n",
        "print(\"Harmonic Mean of Total Housing Units:\")\n",
        "print(har_mean)\n"
      ]
    },
    {
      "cell_type": "markdown",
      "source": [
        "# Mandatory Question\n",
        "\n",
        "Provide your thoughts on the assignment. What did you find challenging, and what aspects did you enjoy? Your opinion on the provided time to complete the assignment. Share any suggestions for improvement. Your feedback will be valuable for enhancing the learning experience."
      ],
      "metadata": {
        "id": "q8BFCvWp32cf"
      }
    },
    {
      "cell_type": "markdown",
      "source": [
        "Actually I enjoy coding in Python. When I was writing the code for claculator I felt like optimizing without brute force. I tried my level best in that. I look to optimize the code always. I wanted to reduce the code but as its assignment it should be clear to evaluate. So I mostly followed brute force. It was fun. As all the concepts are very similar and learnt in past, completing this assignments is very good. I founf difficulty in writing code for the 5th question. As I used nest lists and took time time to get to know on harmonic mean concept. Ofcourse I've researched online to get to know such things. I enjoy doing these type of assignments. I would love to work on all assignments, if all assignments are of this kind 😀."
      ],
      "metadata": {
        "id": "A8EypqP5pB7i"
      }
    }
  ],
  "metadata": {
    "colab": {
      "provenance": [],
      "include_colab_link": true
    },
    "kernelspec": {
      "display_name": "Python 3 (ipykernel)",
      "language": "python",
      "name": "python3"
    },
    "language_info": {
      "codemirror_mode": {
        "name": "ipython",
        "version": 3
      },
      "file_extension": ".py",
      "mimetype": "text/x-python",
      "name": "python",
      "nbconvert_exporter": "python",
      "pygments_lexer": "ipython3",
      "version": "3.9.12"
    }
  },
  "nbformat": 4,
  "nbformat_minor": 0
}